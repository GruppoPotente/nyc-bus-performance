{
 "cells": [
  {
   "cell_type": "code",
   "execution_count": 224,
   "metadata": {
    "collapsed": false
   },
   "outputs": [
    {
     "name": "stdout",
     "output_type": "stream",
     "text": [
      "Populating the interactive namespace from numpy and matplotlib\n"
     ]
    }
   ],
   "source": [
    "import pandas as pd\n",
    "import datetime\n",
    "import numpy as np\n",
    "import matplotlib.pyplot as plt\n",
    "%pylab inline"
   ]
  },
  {
   "cell_type": "markdown",
   "metadata": {},
   "source": [
    "# Bus Time (Actual, from Nathan Johnson)\n",
    "\n",
    "All files are located under gdrive/Capstone/data/dummy-feb"
   ]
  },
  {
   "cell_type": "code",
   "execution_count": 13,
   "metadata": {
    "collapsed": false
   },
   "outputs": [],
   "source": [
    "fname = \"bus_time_20150201.csv\"\n",
    "\n",
    "bt = pd.read_csv(fname)"
   ]
  },
  {
   "cell_type": "code",
   "execution_count": 44,
   "metadata": {
    "collapsed": false
   },
   "outputs": [
    {
     "data": {
      "text/html": [
       "<div>\n",
       "<table border=\"1\" class=\"dataframe\">\n",
       "  <thead>\n",
       "    <tr style=\"text-align: right;\">\n",
       "      <th></th>\n",
       "      <th>timestamp</th>\n",
       "      <th>vehicle_id</th>\n",
       "      <th>latitude</th>\n",
       "      <th>longitude</th>\n",
       "      <th>bearing</th>\n",
       "      <th>progress</th>\n",
       "      <th>service_date</th>\n",
       "      <th>trip_id</th>\n",
       "      <th>block_assigned</th>\n",
       "      <th>next_stop_id</th>\n",
       "      <th>dist_along_route</th>\n",
       "      <th>dist_from_stop</th>\n",
       "    </tr>\n",
       "  </thead>\n",
       "  <tbody>\n",
       "    <tr>\n",
       "      <th>2020649</th>\n",
       "      <td>2015-02-01T23:59:59Z</td>\n",
       "      <td>8004</td>\n",
       "      <td>40.752013</td>\n",
       "      <td>-73.760696</td>\n",
       "      <td>13.91</td>\n",
       "      <td>0</td>\n",
       "      <td>20150201</td>\n",
       "      <td>QV_A5-Sunday-111300_MISC_160</td>\n",
       "      <td>0</td>\n",
       "      <td>501621</td>\n",
       "      <td>7386.02</td>\n",
       "      <td>80.26</td>\n",
       "    </tr>\n",
       "    <tr>\n",
       "      <th>2020650</th>\n",
       "      <td>2015-02-01T23:59:59Z</td>\n",
       "      <td>8798</td>\n",
       "      <td>40.721489</td>\n",
       "      <td>-73.776643</td>\n",
       "      <td>114.55</td>\n",
       "      <td>0</td>\n",
       "      <td>20150201</td>\n",
       "      <td>JA_A5-Sunday-112300_Q17_11</td>\n",
       "      <td>1</td>\n",
       "      <td>501332</td>\n",
       "      <td>3727.21</td>\n",
       "      <td>266.93</td>\n",
       "    </tr>\n",
       "    <tr>\n",
       "      <th>2020651</th>\n",
       "      <td>2015-02-01T23:59:59Z</td>\n",
       "      <td>9021</td>\n",
       "      <td>40.680061</td>\n",
       "      <td>-73.905533</td>\n",
       "      <td>329.49</td>\n",
       "      <td>0</td>\n",
       "      <td>20150201</td>\n",
       "      <td>EN_A5-Sunday-112500_Q24_413</td>\n",
       "      <td>1</td>\n",
       "      <td>307156</td>\n",
       "      <td>2576.21</td>\n",
       "      <td>206.53</td>\n",
       "    </tr>\n",
       "    <tr>\n",
       "      <th>2020652</th>\n",
       "      <td>2015-02-01T23:59:59Z</td>\n",
       "      <td>9617</td>\n",
       "      <td>40.644505</td>\n",
       "      <td>-73.902982</td>\n",
       "      <td>138.15</td>\n",
       "      <td>0</td>\n",
       "      <td>20150201</td>\n",
       "      <td>UP_A5-Sunday-107100_B6_230</td>\n",
       "      <td>1</td>\n",
       "      <td>308003</td>\n",
       "      <td>12664.16</td>\n",
       "      <td>188.14</td>\n",
       "    </tr>\n",
       "    <tr>\n",
       "      <th>2020653</th>\n",
       "      <td>2015-02-01T23:59:59Z</td>\n",
       "      <td>9677</td>\n",
       "      <td>40.693621</td>\n",
       "      <td>-73.913274</td>\n",
       "      <td>330.52</td>\n",
       "      <td>0</td>\n",
       "      <td>20150201</td>\n",
       "      <td>GA_A5-Sunday-112500_B60_721</td>\n",
       "      <td>0</td>\n",
       "      <td>305048</td>\n",
       "      <td>4792.19</td>\n",
       "      <td>6.38</td>\n",
       "    </tr>\n",
       "  </tbody>\n",
       "</table>\n",
       "</div>"
      ],
      "text/plain": [
       "                    timestamp  vehicle_id   latitude  longitude  bearing  \\\n",
       "2020649  2015-02-01T23:59:59Z        8004  40.752013 -73.760696    13.91   \n",
       "2020650  2015-02-01T23:59:59Z        8798  40.721489 -73.776643   114.55   \n",
       "2020651  2015-02-01T23:59:59Z        9021  40.680061 -73.905533   329.49   \n",
       "2020652  2015-02-01T23:59:59Z        9617  40.644505 -73.902982   138.15   \n",
       "2020653  2015-02-01T23:59:59Z        9677  40.693621 -73.913274   330.52   \n",
       "\n",
       "         progress  service_date                       trip_id  block_assigned  \\\n",
       "2020649         0      20150201  QV_A5-Sunday-111300_MISC_160               0   \n",
       "2020650         0      20150201    JA_A5-Sunday-112300_Q17_11               1   \n",
       "2020651         0      20150201   EN_A5-Sunday-112500_Q24_413               1   \n",
       "2020652         0      20150201    UP_A5-Sunday-107100_B6_230               1   \n",
       "2020653         0      20150201   GA_A5-Sunday-112500_B60_721               0   \n",
       "\n",
       "        next_stop_id dist_along_route dist_from_stop  \n",
       "2020649       501621          7386.02          80.26  \n",
       "2020650       501332          3727.21         266.93  \n",
       "2020651       307156          2576.21         206.53  \n",
       "2020652       308003         12664.16         188.14  \n",
       "2020653       305048          4792.19           6.38  "
      ]
     },
     "execution_count": 44,
     "metadata": {},
     "output_type": "execute_result"
    }
   ],
   "source": [
    "bt.tail()"
   ]
  },
  {
   "cell_type": "code",
   "execution_count": 150,
   "metadata": {
    "collapsed": false
   },
   "outputs": [
    {
     "data": {
      "text/plain": [
       "2020654"
      ]
     },
     "execution_count": 150,
     "metadata": {},
     "output_type": "execute_result"
    }
   ],
   "source": [
    "len(bt)"
   ]
  },
  {
   "cell_type": "markdown",
   "metadata": {},
   "source": [
    "# Bus Schedule, also from Nathan Johnson"
   ]
  },
  {
   "cell_type": "code",
   "execution_count": 46,
   "metadata": {
    "collapsed": false
   },
   "outputs": [],
   "source": [
    "st = pd.read_table(\"./gtfs_20150103/stop_times.txt\", sep=\",\")"
   ]
  },
  {
   "cell_type": "code",
   "execution_count": 79,
   "metadata": {
    "collapsed": false
   },
   "outputs": [
    {
     "data": {
      "text/html": [
       "<div>\n",
       "<table border=\"1\" class=\"dataframe\">\n",
       "  <thead>\n",
       "    <tr style=\"text-align: right;\">\n",
       "      <th></th>\n",
       "      <th>trip_id</th>\n",
       "      <th>arrival_time</th>\n",
       "      <th>departure_time</th>\n",
       "      <th>stop_id</th>\n",
       "      <th>stop_sequence</th>\n",
       "      <th>pickup_type</th>\n",
       "      <th>drop_off_type</th>\n",
       "    </tr>\n",
       "  </thead>\n",
       "  <tbody>\n",
       "    <tr>\n",
       "      <th>0</th>\n",
       "      <td>CA_A5-Saturday-001500_S4696_301</td>\n",
       "      <td>00:15:00</td>\n",
       "      <td>00:15:00</td>\n",
       "      <td>203386</td>\n",
       "      <td>1</td>\n",
       "      <td>0</td>\n",
       "      <td>0</td>\n",
       "    </tr>\n",
       "    <tr>\n",
       "      <th>1</th>\n",
       "      <td>CA_A5-Saturday-001500_S4696_301</td>\n",
       "      <td>00:15:55</td>\n",
       "      <td>00:15:55</td>\n",
       "      <td>203574</td>\n",
       "      <td>2</td>\n",
       "      <td>0</td>\n",
       "      <td>0</td>\n",
       "    </tr>\n",
       "    <tr>\n",
       "      <th>2</th>\n",
       "      <td>CA_A5-Saturday-001500_S4696_301</td>\n",
       "      <td>00:17:07</td>\n",
       "      <td>00:17:07</td>\n",
       "      <td>203387</td>\n",
       "      <td>3</td>\n",
       "      <td>0</td>\n",
       "      <td>0</td>\n",
       "    </tr>\n",
       "    <tr>\n",
       "      <th>3</th>\n",
       "      <td>CA_A5-Saturday-001500_S4696_301</td>\n",
       "      <td>00:17:37</td>\n",
       "      <td>00:17:37</td>\n",
       "      <td>203853</td>\n",
       "      <td>4</td>\n",
       "      <td>0</td>\n",
       "      <td>0</td>\n",
       "    </tr>\n",
       "    <tr>\n",
       "      <th>4</th>\n",
       "      <td>CA_A5-Saturday-001500_S4696_301</td>\n",
       "      <td>00:18:05</td>\n",
       "      <td>00:18:05</td>\n",
       "      <td>203830</td>\n",
       "      <td>5</td>\n",
       "      <td>0</td>\n",
       "      <td>0</td>\n",
       "    </tr>\n",
       "  </tbody>\n",
       "</table>\n",
       "</div>"
      ],
      "text/plain": [
       "                           trip_id arrival_time departure_time  stop_id  \\\n",
       "0  CA_A5-Saturday-001500_S4696_301     00:15:00       00:15:00   203386   \n",
       "1  CA_A5-Saturday-001500_S4696_301     00:15:55       00:15:55   203574   \n",
       "2  CA_A5-Saturday-001500_S4696_301     00:17:07       00:17:07   203387   \n",
       "3  CA_A5-Saturday-001500_S4696_301     00:17:37       00:17:37   203853   \n",
       "4  CA_A5-Saturday-001500_S4696_301     00:18:05       00:18:05   203830   \n",
       "\n",
       "   stop_sequence  pickup_type  drop_off_type  \n",
       "0              1            0              0  \n",
       "1              2            0              0  \n",
       "2              3            0              0  \n",
       "3              4            0              0  \n",
       "4              5            0              0  "
      ]
     },
     "execution_count": 79,
     "metadata": {},
     "output_type": "execute_result"
    }
   ],
   "source": [
    "st.head()"
   ]
  },
  {
   "cell_type": "code",
   "execution_count": 246,
   "metadata": {
    "collapsed": false
   },
   "outputs": [
    {
     "name": "stdout",
     "output_type": "stream",
     "text": [
      "number of records: 8855843\n",
      "number of unique trips: 220344\n"
     ]
    }
   ],
   "source": [
    "print \"number of records: \" + str(len(st))\n",
    "print \"number of unique trips: \" + str(len(st.trip_id.unique()))"
   ]
  },
  {
   "cell_type": "markdown",
   "metadata": {},
   "source": [
    "## bus trip list"
   ]
  },
  {
   "cell_type": "code",
   "execution_count": 49,
   "metadata": {
    "collapsed": false
   },
   "outputs": [],
   "source": [
    "tr = pd.read_table(\"./gtfs_20150103/trips.txt\", sep=\",\")"
   ]
  },
  {
   "cell_type": "code",
   "execution_count": 50,
   "metadata": {
    "collapsed": false
   },
   "outputs": [
    {
     "data": {
      "text/plain": [
       "220344"
      ]
     },
     "execution_count": 50,
     "metadata": {},
     "output_type": "execute_result"
    }
   ],
   "source": [
    "len(tr)"
   ]
  },
  {
   "cell_type": "code",
   "execution_count": 51,
   "metadata": {
    "collapsed": false
   },
   "outputs": [
    {
     "data": {
      "text/html": [
       "<div>\n",
       "<table border=\"1\" class=\"dataframe\">\n",
       "  <thead>\n",
       "    <tr style=\"text-align: right;\">\n",
       "      <th></th>\n",
       "      <th>route_id</th>\n",
       "      <th>service_id</th>\n",
       "      <th>trip_id</th>\n",
       "      <th>trip_headsign</th>\n",
       "      <th>direction_id</th>\n",
       "      <th>shape_id</th>\n",
       "    </tr>\n",
       "  </thead>\n",
       "  <tbody>\n",
       "    <tr>\n",
       "      <th>0</th>\n",
       "      <td>B11</td>\n",
       "      <td>JG_A5-Saturday</td>\n",
       "      <td>JG_A5-Saturday-025000_B11_1</td>\n",
       "      <td>MIDWOOD FLATBUSH AV</td>\n",
       "      <td>0</td>\n",
       "      <td>B110026</td>\n",
       "    </tr>\n",
       "    <tr>\n",
       "      <th>1</th>\n",
       "      <td>B11</td>\n",
       "      <td>JG_A5-Saturday</td>\n",
       "      <td>JG_A5-Saturday-028000_B11_2</td>\n",
       "      <td>MIDWOOD FLATBUSH AV</td>\n",
       "      <td>0</td>\n",
       "      <td>B110026</td>\n",
       "    </tr>\n",
       "    <tr>\n",
       "      <th>2</th>\n",
       "      <td>B11</td>\n",
       "      <td>JG_A5-Saturday</td>\n",
       "      <td>JG_A5-Saturday-029500_B11_1</td>\n",
       "      <td>SUNSET PARK 1 AV - 58 ST</td>\n",
       "      <td>1</td>\n",
       "      <td>B110025</td>\n",
       "    </tr>\n",
       "    <tr>\n",
       "      <th>3</th>\n",
       "      <td>B11</td>\n",
       "      <td>JG_A5-Saturday</td>\n",
       "      <td>JG_A5-Saturday-031000_B11_3</td>\n",
       "      <td>MIDWOOD FLATBUSH AV</td>\n",
       "      <td>0</td>\n",
       "      <td>B110026</td>\n",
       "    </tr>\n",
       "    <tr>\n",
       "      <th>4</th>\n",
       "      <td>B11</td>\n",
       "      <td>JG_A5-Saturday</td>\n",
       "      <td>JG_A5-Saturday-032500_B11_2</td>\n",
       "      <td>SUNSET PARK 1 AV - 58 ST</td>\n",
       "      <td>1</td>\n",
       "      <td>B110025</td>\n",
       "    </tr>\n",
       "  </tbody>\n",
       "</table>\n",
       "</div>"
      ],
      "text/plain": [
       "  route_id      service_id                      trip_id  \\\n",
       "0      B11  JG_A5-Saturday  JG_A5-Saturday-025000_B11_1   \n",
       "1      B11  JG_A5-Saturday  JG_A5-Saturday-028000_B11_2   \n",
       "2      B11  JG_A5-Saturday  JG_A5-Saturday-029500_B11_1   \n",
       "3      B11  JG_A5-Saturday  JG_A5-Saturday-031000_B11_3   \n",
       "4      B11  JG_A5-Saturday  JG_A5-Saturday-032500_B11_2   \n",
       "\n",
       "              trip_headsign  direction_id shape_id  \n",
       "0       MIDWOOD FLATBUSH AV             0  B110026  \n",
       "1       MIDWOOD FLATBUSH AV             0  B110026  \n",
       "2  SUNSET PARK 1 AV - 58 ST             1  B110025  \n",
       "3       MIDWOOD FLATBUSH AV             0  B110026  \n",
       "4  SUNSET PARK 1 AV - 58 ST             1  B110025  "
      ]
     },
     "execution_count": 51,
     "metadata": {},
     "output_type": "execute_result"
    }
   ],
   "source": [
    "tr.head()"
   ]
  },
  {
   "cell_type": "markdown",
   "metadata": {},
   "source": [
    "# Now let's merge them"
   ]
  },
  {
   "cell_type": "code",
   "execution_count": 169,
   "metadata": {
    "collapsed": false
   },
   "outputs": [],
   "source": [
    "# schedule\n",
    "sched = st[['arrival_time','stop_id','trip_id']].copy()"
   ]
  },
  {
   "cell_type": "code",
   "execution_count": 247,
   "metadata": {
    "collapsed": false
   },
   "outputs": [
    {
     "data": {
      "text/html": [
       "<div>\n",
       "<table border=\"1\" class=\"dataframe\">\n",
       "  <thead>\n",
       "    <tr style=\"text-align: right;\">\n",
       "      <th></th>\n",
       "      <th>arrival_time</th>\n",
       "      <th>stop_id</th>\n",
       "      <th>trip_id</th>\n",
       "    </tr>\n",
       "  </thead>\n",
       "  <tbody>\n",
       "    <tr>\n",
       "      <th>0</th>\n",
       "      <td>00:15:00</td>\n",
       "      <td>203386</td>\n",
       "      <td>CA_A5-Saturday-001500_S4696_301</td>\n",
       "    </tr>\n",
       "    <tr>\n",
       "      <th>1</th>\n",
       "      <td>00:15:55</td>\n",
       "      <td>203574</td>\n",
       "      <td>CA_A5-Saturday-001500_S4696_301</td>\n",
       "    </tr>\n",
       "    <tr>\n",
       "      <th>2</th>\n",
       "      <td>00:17:07</td>\n",
       "      <td>203387</td>\n",
       "      <td>CA_A5-Saturday-001500_S4696_301</td>\n",
       "    </tr>\n",
       "    <tr>\n",
       "      <th>3</th>\n",
       "      <td>00:17:37</td>\n",
       "      <td>203853</td>\n",
       "      <td>CA_A5-Saturday-001500_S4696_301</td>\n",
       "    </tr>\n",
       "    <tr>\n",
       "      <th>4</th>\n",
       "      <td>00:18:05</td>\n",
       "      <td>203830</td>\n",
       "      <td>CA_A5-Saturday-001500_S4696_301</td>\n",
       "    </tr>\n",
       "  </tbody>\n",
       "</table>\n",
       "</div>"
      ],
      "text/plain": [
       "  arrival_time  stop_id                          trip_id\n",
       "0     00:15:00   203386  CA_A5-Saturday-001500_S4696_301\n",
       "1     00:15:55   203574  CA_A5-Saturday-001500_S4696_301\n",
       "2     00:17:07   203387  CA_A5-Saturday-001500_S4696_301\n",
       "3     00:17:37   203853  CA_A5-Saturday-001500_S4696_301\n",
       "4     00:18:05   203830  CA_A5-Saturday-001500_S4696_301"
      ]
     },
     "execution_count": 247,
     "metadata": {},
     "output_type": "execute_result"
    }
   ],
   "source": [
    "sched.head()"
   ]
  },
  {
   "cell_type": "code",
   "execution_count": 170,
   "metadata": {
    "collapsed": false
   },
   "outputs": [],
   "source": [
    "# actual\n",
    "def conv_float(x):\n",
    "    try:\n",
    "        return float(x)\n",
    "    except:\n",
    "        return np.nan\n",
    "act = bt[[\"timestamp\",\"next_stop_id\",\"dist_from_stop\",\"trip_id\"]].copy()\n",
    "act['dist_from_stop'] = act['dist_from_stop'].apply(lambda x: conv_float(x))\n",
    "act.rename(columns={\"next_stop_id\":\"stop_id\"}, inplace=True)\n",
    "act.stop_id = act.stop_id.apply(lambda s: int(s) if s.isdigit() else 0)"
   ]
  },
  {
   "cell_type": "code",
   "execution_count": 171,
   "metadata": {
    "collapsed": false
   },
   "outputs": [
    {
     "data": {
      "text/html": [
       "<div>\n",
       "<table border=\"1\" class=\"dataframe\">\n",
       "  <thead>\n",
       "    <tr style=\"text-align: right;\">\n",
       "      <th></th>\n",
       "      <th>timestamp</th>\n",
       "      <th>stop_id</th>\n",
       "      <th>dist_from_stop</th>\n",
       "      <th>trip_id</th>\n",
       "    </tr>\n",
       "  </thead>\n",
       "  <tbody>\n",
       "    <tr>\n",
       "      <th>0</th>\n",
       "      <td>2015-02-01T00:00:00Z</td>\n",
       "      <td>551742</td>\n",
       "      <td>13.00</td>\n",
       "      <td>7696804-CPPA5-CP_A5-Saturday-80</td>\n",
       "    </tr>\n",
       "    <tr>\n",
       "      <th>1</th>\n",
       "      <td>2015-02-01T00:00:00Z</td>\n",
       "      <td>308211</td>\n",
       "      <td>99.73</td>\n",
       "      <td>JG_A5-Saturday-106500_B63_118</td>\n",
       "    </tr>\n",
       "    <tr>\n",
       "      <th>2</th>\n",
       "      <td>2015-02-01T00:00:00Z</td>\n",
       "      <td>102375</td>\n",
       "      <td>24.92</td>\n",
       "      <td>WF_A5-Saturday-110000_BX36_151</td>\n",
       "    </tr>\n",
       "    <tr>\n",
       "      <th>3</th>\n",
       "      <td>2015-02-01T00:00:00Z</td>\n",
       "      <td>103899</td>\n",
       "      <td>5.81</td>\n",
       "      <td>WF_A5-Saturday-113100_BX15_28</td>\n",
       "    </tr>\n",
       "    <tr>\n",
       "      <th>4</th>\n",
       "      <td>2015-02-01T00:00:00Z</td>\n",
       "      <td>302682</td>\n",
       "      <td>91.08</td>\n",
       "      <td>JG_A5-Saturday-113000_B70_204</td>\n",
       "    </tr>\n",
       "  </tbody>\n",
       "</table>\n",
       "</div>"
      ],
      "text/plain": [
       "              timestamp  stop_id  dist_from_stop  \\\n",
       "0  2015-02-01T00:00:00Z   551742           13.00   \n",
       "1  2015-02-01T00:00:00Z   308211           99.73   \n",
       "2  2015-02-01T00:00:00Z   102375           24.92   \n",
       "3  2015-02-01T00:00:00Z   103899            5.81   \n",
       "4  2015-02-01T00:00:00Z   302682           91.08   \n",
       "\n",
       "                           trip_id  \n",
       "0  7696804-CPPA5-CP_A5-Saturday-80  \n",
       "1    JG_A5-Saturday-106500_B63_118  \n",
       "2   WF_A5-Saturday-110000_BX36_151  \n",
       "3    WF_A5-Saturday-113100_BX15_28  \n",
       "4    JG_A5-Saturday-113000_B70_204  "
      ]
     },
     "execution_count": 171,
     "metadata": {},
     "output_type": "execute_result"
    }
   ],
   "source": [
    "act.head()"
   ]
  },
  {
   "cell_type": "markdown",
   "metadata": {},
   "source": [
    "### Since the actual time is pinged every 30 seconds, I only pick records that have nearest distance to a bus stop, for each trip."
   ]
  },
  {
   "cell_type": "code",
   "execution_count": 174,
   "metadata": {
    "collapsed": true
   },
   "outputs": [],
   "source": [
    "idx = act.groupby(['stop_id','trip_id'])['dist_from_stop'].transform(min) == act['dist_from_stop']\n",
    "act = act[idx]"
   ]
  },
  {
   "cell_type": "markdown",
   "metadata": {},
   "source": [
    "### Merge actual and schedule data by `trip_id` and `stop_id`"
   ]
  },
  {
   "cell_type": "code",
   "execution_count": 266,
   "metadata": {
    "collapsed": false
   },
   "outputs": [],
   "source": [
    "merged = pd.merge(act,sched, on=[\"stop_id\",\"trip_id\"])"
   ]
  },
  {
   "cell_type": "code",
   "execution_count": 267,
   "metadata": {
    "collapsed": false
   },
   "outputs": [
    {
     "data": {
      "text/plain": [
       "957448"
      ]
     },
     "execution_count": 267,
     "metadata": {},
     "output_type": "execute_result"
    }
   ],
   "source": [
    "len(merged)"
   ]
  },
  {
   "cell_type": "code",
   "execution_count": 268,
   "metadata": {
    "collapsed": false
   },
   "outputs": [
    {
     "data": {
      "text/html": [
       "<div>\n",
       "<table border=\"1\" class=\"dataframe\">\n",
       "  <thead>\n",
       "    <tr style=\"text-align: right;\">\n",
       "      <th></th>\n",
       "      <th>timestamp</th>\n",
       "      <th>stop_id</th>\n",
       "      <th>dist_from_stop</th>\n",
       "      <th>trip_id</th>\n",
       "      <th>arrival_time</th>\n",
       "    </tr>\n",
       "  </thead>\n",
       "  <tbody>\n",
       "    <tr>\n",
       "      <th>0</th>\n",
       "      <td>2015-02-01T00:00:00Z</td>\n",
       "      <td>103899</td>\n",
       "      <td>5.81</td>\n",
       "      <td>WF_A5-Saturday-113100_BX15_28</td>\n",
       "      <td>19:01:00</td>\n",
       "    </tr>\n",
       "    <tr>\n",
       "      <th>1</th>\n",
       "      <td>2015-02-01T00:00:00Z</td>\n",
       "      <td>302682</td>\n",
       "      <td>91.08</td>\n",
       "      <td>JG_A5-Saturday-113000_B70_204</td>\n",
       "      <td>19:00:41</td>\n",
       "    </tr>\n",
       "    <tr>\n",
       "      <th>2</th>\n",
       "      <td>2015-02-01T00:00:00Z</td>\n",
       "      <td>400240</td>\n",
       "      <td>136.48</td>\n",
       "      <td>MV_A5-Saturday-107600_M2_127</td>\n",
       "      <td>18:52:52</td>\n",
       "    </tr>\n",
       "    <tr>\n",
       "      <th>3</th>\n",
       "      <td>2015-02-01T00:00:00Z</td>\n",
       "      <td>403162</td>\n",
       "      <td>156.27</td>\n",
       "      <td>MV_A5-Saturday-110200_M104_36</td>\n",
       "      <td>18:50:47</td>\n",
       "    </tr>\n",
       "    <tr>\n",
       "      <th>4</th>\n",
       "      <td>2015-02-01T00:00:00Z</td>\n",
       "      <td>405427</td>\n",
       "      <td>64.31</td>\n",
       "      <td>KB_A5-Saturday-107500_M100_333</td>\n",
       "      <td>18:55:00</td>\n",
       "    </tr>\n",
       "  </tbody>\n",
       "</table>\n",
       "</div>"
      ],
      "text/plain": [
       "              timestamp  stop_id  dist_from_stop  \\\n",
       "0  2015-02-01T00:00:00Z   103899            5.81   \n",
       "1  2015-02-01T00:00:00Z   302682           91.08   \n",
       "2  2015-02-01T00:00:00Z   400240          136.48   \n",
       "3  2015-02-01T00:00:00Z   403162          156.27   \n",
       "4  2015-02-01T00:00:00Z   405427           64.31   \n",
       "\n",
       "                          trip_id arrival_time  \n",
       "0   WF_A5-Saturday-113100_BX15_28     19:01:00  \n",
       "1   JG_A5-Saturday-113000_B70_204     19:00:41  \n",
       "2    MV_A5-Saturday-107600_M2_127     18:52:52  \n",
       "3   MV_A5-Saturday-110200_M104_36     18:50:47  \n",
       "4  KB_A5-Saturday-107500_M100_333     18:55:00  "
      ]
     },
     "execution_count": 268,
     "metadata": {},
     "output_type": "execute_result"
    }
   ],
   "source": [
    "merged.head()"
   ]
  },
  {
   "cell_type": "markdown",
   "metadata": {},
   "source": [
    "### for each record, calculate actual - schedule\n",
    "- minus means the bus was ahead the schedule\n",
    "- timestamp (actual arrival time) was in GMT so we have to convert to EST\n",
    "- results are in seconds"
   ]
  },
  {
   "cell_type": "code",
   "execution_count": 269,
   "metadata": {
    "collapsed": false
   },
   "outputs": [],
   "source": [
    "def timediff(df):\n",
    "    try:\n",
    "        actual = datetime.datetime.strptime(df.timestamp, \"%Y-%m-%dT%H:%M:%SZ\")- datetime.timedelta(hours=5)\n",
    "        actual_date = actual.strftime(\"%Y-%m-%d\")\n",
    "        schedule = datetime.datetime.strptime(actual_date+df.arrival_time, \"%Y-%m-%d%H:%M:%S\")\n",
    "        if actual >= schedule:\n",
    "            diff = (actual-schedule).seconds\n",
    "        else:\n",
    "            diff = (schedule-actual).seconds *-1\n",
    "    except:\n",
    "        diff = np.nan\n",
    "    return diff\n",
    "merged['delta']=merged.apply(timediff, axis=1)"
   ]
  },
  {
   "cell_type": "code",
   "execution_count": 203,
   "metadata": {
    "collapsed": false
   },
   "outputs": [],
   "source": [
    "#merged.to_csv('try_20150201.csv')"
   ]
  },
  {
   "cell_type": "code",
   "execution_count": 271,
   "metadata": {
    "collapsed": false
   },
   "outputs": [
    {
     "data": {
      "text/html": [
       "<div>\n",
       "<table border=\"1\" class=\"dataframe\">\n",
       "  <thead>\n",
       "    <tr style=\"text-align: right;\">\n",
       "      <th></th>\n",
       "      <th>timestamp</th>\n",
       "      <th>stop_id</th>\n",
       "      <th>dist_from_stop</th>\n",
       "      <th>trip_id</th>\n",
       "      <th>arrival_time</th>\n",
       "      <th>delta</th>\n",
       "    </tr>\n",
       "  </thead>\n",
       "  <tbody>\n",
       "    <tr>\n",
       "      <th>957443</th>\n",
       "      <td>2015-02-01T23:59:59Z</td>\n",
       "      <td>101402</td>\n",
       "      <td>14.45</td>\n",
       "      <td>WF_A5-Sunday-112300_BX21_31</td>\n",
       "      <td>18:58:09</td>\n",
       "      <td>110.0</td>\n",
       "    </tr>\n",
       "    <tr>\n",
       "      <th>957444</th>\n",
       "      <td>2015-02-01T23:59:59Z</td>\n",
       "      <td>501621</td>\n",
       "      <td>80.26</td>\n",
       "      <td>QV_A5-Sunday-111300_MISC_160</td>\n",
       "      <td>19:00:16</td>\n",
       "      <td>-17.0</td>\n",
       "    </tr>\n",
       "    <tr>\n",
       "      <th>957445</th>\n",
       "      <td>2015-02-01T23:59:59Z</td>\n",
       "      <td>307156</td>\n",
       "      <td>206.53</td>\n",
       "      <td>EN_A5-Sunday-112500_Q24_413</td>\n",
       "      <td>18:57:40</td>\n",
       "      <td>139.0</td>\n",
       "    </tr>\n",
       "    <tr>\n",
       "      <th>957446</th>\n",
       "      <td>2015-02-01T23:59:59Z</td>\n",
       "      <td>308003</td>\n",
       "      <td>188.14</td>\n",
       "      <td>UP_A5-Sunday-107100_B6_230</td>\n",
       "      <td>18:56:00</td>\n",
       "      <td>239.0</td>\n",
       "    </tr>\n",
       "    <tr>\n",
       "      <th>957447</th>\n",
       "      <td>2015-02-01T23:59:59Z</td>\n",
       "      <td>305048</td>\n",
       "      <td>6.38</td>\n",
       "      <td>GA_A5-Sunday-112500_B60_721</td>\n",
       "      <td>19:09:40</td>\n",
       "      <td>-581.0</td>\n",
       "    </tr>\n",
       "  </tbody>\n",
       "</table>\n",
       "</div>"
      ],
      "text/plain": [
       "                   timestamp  stop_id  dist_from_stop  \\\n",
       "957443  2015-02-01T23:59:59Z   101402           14.45   \n",
       "957444  2015-02-01T23:59:59Z   501621           80.26   \n",
       "957445  2015-02-01T23:59:59Z   307156          206.53   \n",
       "957446  2015-02-01T23:59:59Z   308003          188.14   \n",
       "957447  2015-02-01T23:59:59Z   305048            6.38   \n",
       "\n",
       "                             trip_id arrival_time  delta  \n",
       "957443   WF_A5-Sunday-112300_BX21_31     18:58:09  110.0  \n",
       "957444  QV_A5-Sunday-111300_MISC_160     19:00:16  -17.0  \n",
       "957445   EN_A5-Sunday-112500_Q24_413     18:57:40  139.0  \n",
       "957446    UP_A5-Sunday-107100_B6_230     18:56:00  239.0  \n",
       "957447   GA_A5-Sunday-112500_B60_721     19:09:40 -581.0  "
      ]
     },
     "execution_count": 271,
     "metadata": {},
     "output_type": "execute_result"
    }
   ],
   "source": [
    "# the result\n",
    "merged.tail()"
   ]
  },
  {
   "cell_type": "code",
   "execution_count": 272,
   "metadata": {
    "collapsed": false
   },
   "outputs": [],
   "source": [
    "# delete duplicated stop_id and trip_id\n",
    "idx = merged.groupby(['stop_id','trip_id'])['delta'].transform(max) == merged['delta']\n",
    "merged2 = merged[idx]"
   ]
  },
  {
   "cell_type": "code",
   "execution_count": 273,
   "metadata": {
    "collapsed": false
   },
   "outputs": [
    {
     "data": {
      "text/plain": [
       "800946"
      ]
     },
     "execution_count": 273,
     "metadata": {},
     "output_type": "execute_result"
    }
   ],
   "source": [
    "len(merged2)"
   ]
  },
  {
   "cell_type": "markdown",
   "metadata": {},
   "source": [
    "### histogram (for delta < 30 minutes and delta > -30 minutes)"
   ]
  },
  {
   "cell_type": "code",
   "execution_count": 284,
   "metadata": {
    "collapsed": false
   },
   "outputs": [
    {
     "data": {
      "text/plain": [
       "<matplotlib.collections.LineCollection at 0x9bc9c0b8>"
      ]
     },
     "execution_count": 284,
     "metadata": {},
     "output_type": "execute_result"
    },
    {
     "data": {
      "image/png": "[encoded data removed]",
      "text/plain": [
       "<matplotlib.figure.Figure at 0xa038ada0>"
      ]
     },
     "metadata": {},
     "output_type": "display_data"
    }
   ],
   "source": [
    "plt.figure(figsize=(8,6))\n",
    "merged2[(merged2.delta<=1800)&(merged2.delta>-1800)]['delta'].hist(bins=40, color=\"IndianRed\")\n",
    "plt.title(\"Actual Arrival Time - Schedule Time\")\n",
    "plt.xlabel(\"Differences (seconds)\")\n",
    "plt.ylabel(\"Number of Stops\")\n",
    "plt.vlines(0, 0, 160000, )"
   ]
  },
  {
   "cell_type": "code",
   "execution_count": 295,
   "metadata": {
    "collapsed": false
   },
   "outputs": [
    {
     "name": "stdout",
     "output_type": "stream",
     "text": [
      "mean of all deltas: 64.8758405685\n",
      "median of all deltas: 127.0\n",
      "standard deviation of all deltas: 3872.6668189\n",
      "95 percentile: 1033.0\n"
     ]
    }
   ],
   "source": [
    "print \"mean of all deltas: \" + str(merged2.delta.mean())\n",
    "print \"median of all deltas: \" + str(merged2.delta.median())\n",
    "print \"standard deviation of all deltas: \" + str(merged2.delta.std())\n",
    "print \"95 percentile: \" + str(np.percentile(merged2.delta, 95))"
   ]
  },
  {
   "cell_type": "code",
   "execution_count": null,
   "metadata": {
    "collapsed": true
   },
   "outputs": [],
   "source": []
  }
 ],
 "metadata": {
  "anaconda-cloud": {},
  "kernelspec": {
   "display_name": "Python [conda root]",
   "language": "python",
   "name": "conda-root-py"
  },
  "language_info": {
   "codemirror_mode": {
    "name": "ipython",
    "version": 2
   },
   "file_extension": ".py",
   "mimetype": "text/x-python",
   "name": "python",
   "nbconvert_exporter": "python",
   "pygments_lexer": "ipython2",
   "version": "2.7.12"
  }
 },
 "nbformat": 4,
 "nbformat_minor": 1
}
