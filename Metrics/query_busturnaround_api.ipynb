{
 "cells": [
  {
   "cell_type": "code",
   "execution_count": 58,
   "metadata": {
    "collapsed": false
   },
   "outputs": [],
   "source": [
    "import sys, os\n",
    "import requests"
   ]
  },
  {
   "cell_type": "code",
   "execution_count": 59,
   "metadata": {
    "collapsed": true
   },
   "outputs": [],
   "source": [
    "baseurl = 'http://api.busturnaround.nyc/api/v1/'"
   ]
  },
  {
   "cell_type": "code",
   "execution_count": 60,
   "metadata": {
    "collapsed": false
   },
   "outputs": [],
   "source": [
    "def queryBusTurnaroundAPI(endpoint, kv_dict): \n",
    "    '''\n",
    "    Queries bus turnaround api according to endpoint and key_value dictionary \n",
    "    \n",
    "    Possible enpoints & keys available here: http://api.busturnaround.nyc/\n",
    "    \n",
    "    Note: Data only available Aug 2014-Feb 2016\n",
    "    \n",
    "    Note: EWT calculation is not the correct one! \n",
    "    '''\n",
    "    query = endpoint + '?'\n",
    "    for k,v in kv_dict.iteritems():\n",
    "        query = query + k + '=' + str(v) + '&'\n",
    "    query = query[:-1]\n",
    "    try: \n",
    "        r = requests.get((baseurl + query).replace('%2C', ''))\n",
    "        print r.url\n",
    "        return r.json()\n",
    "    except: \n",
    "        print 'error'\n",
    "        "
   ]
  },
  {
   "cell_type": "markdown",
   "metadata": {},
   "source": [
    "# Sample Query for Wait Time Percentage excluding weekends in Jan & Feb 2016"
   ]
  },
  {
   "cell_type": "code",
   "execution_count": 61,
   "metadata": {
    "collapsed": true
   },
   "outputs": [],
   "source": [
    "kv_dict = {'months': '2016-01-01,2016-02-01', 'weekend': '0'}"
   ]
  },
  {
   "cell_type": "code",
   "execution_count": 62,
   "metadata": {
    "collapsed": false
   },
   "outputs": [
    {
     "name": "stdout",
     "output_type": "stream",
     "text": [
      "http://api.busturnaround.nyc/api/v1/wtp?months=2016-01-01,2016-02-01&weekend=0\n"
     ]
    }
   ],
   "source": [
    "x = queryBusTurnaroundAPI('wtp', kv_dict)"
   ]
  },
  {
   "cell_type": "code",
   "execution_count": 63,
   "metadata": {
    "collapsed": false
   },
   "outputs": [
    {
     "data": {
      "text/plain": [
       "[{u'hours': 6966495,\n",
       "  u'wtp_10': 75.9527,\n",
       "  u'wtp_15': 90.0943,\n",
       "  u'wtp_20': 95.7273,\n",
       "  u'wtp_30': 99.0041,\n",
       "  u'wtp_5': 46.2161}]"
      ]
     },
     "execution_count": 63,
     "metadata": {},
     "output_type": "execute_result"
    }
   ],
   "source": [
    "x = queryBusTurnaround('')"
   ]
  },
  {
   "cell_type": "code",
   "execution_count": null,
   "metadata": {
    "collapsed": false
   },
   "outputs": [],
   "source": []
  },
  {
   "cell_type": "code",
   "execution_count": null,
   "metadata": {
    "collapsed": true
   },
   "outputs": [],
   "source": []
  }
 ],
 "metadata": {
  "kernelspec": {
   "display_name": "Python 2",
   "language": "python",
   "name": "python2"
  },
  "language_info": {
   "codemirror_mode": {
    "name": "ipython",
    "version": 2
   },
   "file_extension": ".py",
   "mimetype": "text/x-python",
   "name": "python",
   "nbconvert_exporter": "python",
   "pygments_lexer": "ipython2",
   "version": "2.7.13"
  }
 },
 "nbformat": 4,
 "nbformat_minor": 2
}
