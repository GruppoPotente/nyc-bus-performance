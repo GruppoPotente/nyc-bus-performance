{
 "cells": [
  {
   "cell_type": "code",
   "execution_count": 240,
   "metadata": {
    "collapsed": false
   },
   "outputs": [
    {
     "name": "stdout",
     "output_type": "stream",
     "text": [
      "Populating the interactive namespace from numpy and matplotlib\n"
     ]
    },
    {
     "name": "stderr",
     "output_type": "stream",
     "text": [
      "/opt/rh/anaconda/root/envs/PUI2016_Python2/lib/python2.7/site-packages/IPython/core/magics/pylab.py:161: UserWarning: pylab import has clobbered these variables: ['sample', 'radians', 'sin', 'datetime', 'cos', 'sqrt']\n",
      "`%matplotlib` prevents importing * from pylab and numpy\n",
      "  \"\\n`%matplotlib` prevents importing * from pylab and numpy\"\n"
     ]
    }
   ],
   "source": [
    "import pandas as pd\n",
    "from datetime import datetime, timedelta\n",
    "import datetime as dt\n",
    "import requests\n",
    "import zipfile as zf\n",
    "import StringIO\n",
    "import re\n",
    "import os\n",
    "import numpy as np\n",
    "import sys\n",
    "from os.path import join, isfile, abspath\n",
    "from os import listdir\n",
    "import matplotlib.pyplot as plt\n",
    "from math import radians, cos, sin, asin, sqrt\n",
    "\n",
    "%pylab inline"
   ]
  },
  {
   "cell_type": "code",
   "execution_count": 241,
   "metadata": {
    "collapsed": true
   },
   "outputs": [],
   "source": [
    "two_up= abspath(join(os.getcwd(),\"../..\"))\n",
    "calls_path = join(two_up,\"share/data/calls\")\n",
    "listdir = os.listdir(calls_path)\n",
    "dirs = [x for x in listdir if isfile(join(calls_path,x))==False]\n",
    "dirs = [join(calls_path,x) for x in dirs]\n",
    "allfiles = []\n",
    "for d in dirs:\n",
    "    listdir = os.listdir(d)\n",
    "    paths = [join(d, x) for x in listdir]\n",
    "    allfiles  = allfiles + paths\n",
    "allfiles = [x for x in allfiles if x.split('.')[1]=='csv']\n"
   ]
  },
  {
   "cell_type": "code",
   "execution_count": 242,
   "metadata": {
    "collapsed": true
   },
   "outputs": [],
   "source": [
    "# trips and stops\n",
    "trips_path = join(two_up,\"share/data/trips\")\n",
    "trips = pd.read_csv(join(trips_path, \"all_trips.csv\"))\n",
    "stops_path = join(two_up,\"share/data/stops\")\n",
    "stops = pd.read_csv(join(stops_path, \"all_stops.csv\"))"
   ]
  },
  {
   "cell_type": "code",
   "execution_count": 245,
   "metadata": {
    "collapsed": false
   },
   "outputs": [],
   "source": [
    "# params\n",
    "today_str = '20170501'\n",
    "today = dt.datetime.strptime(today_str,'%Y%m%d')\n",
    "tomorrow = today + timedelta(days=1)"
   ]
  },
  {
   "cell_type": "code",
   "execution_count": 244,
   "metadata": {
    "collapsed": false
   },
   "outputs": [],
   "source": [
    "fname0 = allfiles[0]\n",
    "fname1 = allfiles[1]\n",
    "df0 = pd.read_csv(fname0)\n",
    "df1 = pd.read_csv(fname1)"
   ]
  },
  {
   "cell_type": "code",
   "execution_count": null,
   "metadata": {
    "collapsed": false
   },
   "outputs": [],
   "source": [
    "calls = pd.concat([df0, df1]).sort_values(['vehicle_id','timestamp'])\n",
    "calls = calls[calls.service_date == int(today_str)]\n",
    "calls.head()"
   ]
  },
  {
   "cell_type": "markdown",
   "metadata": {},
   "source": [
    "# start"
   ]
  },
  {
   "cell_type": "code",
   "execution_count": 150,
   "metadata": {
    "collapsed": false
   },
   "outputs": [],
   "source": [
    "last_date = '0000-00-00'\n",
    "last_trip = -1\n",
    "last_vehicle = 0\n",
    "last_stop = -1\n",
    "last_time = dt.datetime.now()\n",
    "columns = ['vehicle_id','service_date','trip_id','next_stop_id','timestamp']\n",
    "init = pd.DataFrame(pd.Series([last_vehicle, last_date, last_trip, last_stop, last_time],\n",
    "                              columns)).T"
   ]
  },
  {
   "cell_type": "code",
   "execution_count": 151,
   "metadata": {
    "collapsed": false
   },
   "outputs": [],
   "source": [
    "block_assigned = calls.block_assigned\n",
    "calls = calls[columns]"
   ]
  },
  {
   "cell_type": "code",
   "execution_count": 152,
   "metadata": {
    "collapsed": false
   },
   "outputs": [],
   "source": [
    "calls = init.append(calls)\n",
    "calls.index = range(len(calls))"
   ]
  },
  {
   "cell_type": "code",
   "execution_count": 153,
   "metadata": {
    "collapsed": true
   },
   "outputs": [],
   "source": [
    "calls['next_next_stop_id'] = calls.next_stop_id.tolist()[1:] + [-1]\n",
    "calls['next_time'] = calls.timestamp.tolist()[1:] + [np.nan]"
   ]
  },
  {
   "cell_type": "code",
   "execution_count": 154,
   "metadata": {
    "collapsed": false
   },
   "outputs": [],
   "source": [
    "calls['comp'] = calls.next_stop_id == calls.next_next_stop_id"
   ]
  },
  {
   "cell_type": "code",
   "execution_count": 155,
   "metadata": {
    "collapsed": false
   },
   "outputs": [],
   "source": [
    "calls1 = calls[calls.comp==True].copy()\n",
    "calls2 = calls[calls.comp==False].copy()"
   ]
  },
  {
   "cell_type": "code",
   "execution_count": 156,
   "metadata": {
    "collapsed": false
   },
   "outputs": [],
   "source": [
    "calls1['dep_start'] = calls1['next_time']\n",
    "calls2['dep_start'] = calls2['timestamp']"
   ]
  },
  {
   "cell_type": "code",
   "execution_count": 157,
   "metadata": {
    "collapsed": true
   },
   "outputs": [],
   "source": [
    "calls1['dep_end'] = np.nan\n",
    "calls2['dep_end'] = calls2['next_time']"
   ]
  },
  {
   "cell_type": "code",
   "execution_count": 158,
   "metadata": {
    "collapsed": true
   },
   "outputs": [],
   "source": [
    "calls = pd.concat([calls1,calls2])"
   ]
  },
  {
   "cell_type": "code",
   "execution_count": 159,
   "metadata": {
    "collapsed": false
   },
   "outputs": [],
   "source": [
    "calls=calls.sort_index().iloc[:-1,:]"
   ]
  },
  {
   "cell_type": "code",
   "execution_count": 160,
   "metadata": {
    "collapsed": false
   },
   "outputs": [
    {
     "data": {
      "text/html": [
       "<div>\n",
       "<table border=\"1\" class=\"dataframe\">\n",
       "  <thead>\n",
       "    <tr style=\"text-align: right;\">\n",
       "      <th></th>\n",
       "      <th>vehicle_id</th>\n",
       "      <th>service_date</th>\n",
       "      <th>trip_id</th>\n",
       "      <th>next_stop_id</th>\n",
       "      <th>timestamp</th>\n",
       "      <th>next_next_stop_id</th>\n",
       "      <th>next_time</th>\n",
       "      <th>comp</th>\n",
       "      <th>dep_start</th>\n",
       "      <th>dep_end</th>\n",
       "      <th>block_assigned</th>\n",
       "    </tr>\n",
       "  </thead>\n",
       "  <tbody>\n",
       "    <tr>\n",
       "      <th>0</th>\n",
       "      <td>0</td>\n",
       "      <td>0000-00-00</td>\n",
       "      <td>-1</td>\n",
       "      <td>-1</td>\n",
       "      <td>2017-06-17 19:46:37.885674</td>\n",
       "      <td>551045</td>\n",
       "      <td>2017-05-01T11:20:09Z</td>\n",
       "      <td>False</td>\n",
       "      <td>2017-06-17 19:46:37.885674</td>\n",
       "      <td>2017-05-01T11:20:09Z</td>\n",
       "      <td>1</td>\n",
       "    </tr>\n",
       "    <tr>\n",
       "      <th>1</th>\n",
       "      <td>185</td>\n",
       "      <td>20170501</td>\n",
       "      <td>15372217-CPPB7-CP_B7-Weekday-10-SDon</td>\n",
       "      <td>551045</td>\n",
       "      <td>2017-05-01T11:20:09Z</td>\n",
       "      <td>551045</td>\n",
       "      <td>2017-05-01T11:20:41Z</td>\n",
       "      <td>True</td>\n",
       "      <td>2017-05-01T11:20:41Z</td>\n",
       "      <td>NaN</td>\n",
       "      <td>1</td>\n",
       "    </tr>\n",
       "    <tr>\n",
       "      <th>2</th>\n",
       "      <td>185</td>\n",
       "      <td>20170501</td>\n",
       "      <td>15372217-CPPB7-CP_B7-Weekday-10-SDon</td>\n",
       "      <td>551045</td>\n",
       "      <td>2017-05-01T11:20:41Z</td>\n",
       "      <td>551036</td>\n",
       "      <td>2017-05-01T11:21:12Z</td>\n",
       "      <td>False</td>\n",
       "      <td>2017-05-01T11:20:41Z</td>\n",
       "      <td>2017-05-01T11:21:12Z</td>\n",
       "      <td>1</td>\n",
       "    </tr>\n",
       "    <tr>\n",
       "      <th>3</th>\n",
       "      <td>185</td>\n",
       "      <td>20170501</td>\n",
       "      <td>15372217-CPPB7-CP_B7-Weekday-10-SDon</td>\n",
       "      <td>551036</td>\n",
       "      <td>2017-05-01T11:21:12Z</td>\n",
       "      <td>551046</td>\n",
       "      <td>2017-05-01T11:22:16Z</td>\n",
       "      <td>False</td>\n",
       "      <td>2017-05-01T11:21:12Z</td>\n",
       "      <td>2017-05-01T11:22:16Z</td>\n",
       "      <td>1</td>\n",
       "    </tr>\n",
       "    <tr>\n",
       "      <th>4</th>\n",
       "      <td>185</td>\n",
       "      <td>20170501</td>\n",
       "      <td>15372217-CPPB7-CP_B7-Weekday-10-SDon</td>\n",
       "      <td>551046</td>\n",
       "      <td>2017-05-01T11:22:16Z</td>\n",
       "      <td>551047</td>\n",
       "      <td>2017-05-01T11:23:52Z</td>\n",
       "      <td>False</td>\n",
       "      <td>2017-05-01T11:22:16Z</td>\n",
       "      <td>2017-05-01T11:23:52Z</td>\n",
       "      <td>1</td>\n",
       "    </tr>\n",
       "  </tbody>\n",
       "</table>\n",
       "</div>"
      ],
      "text/plain": [
       "  vehicle_id service_date                               trip_id next_stop_id  \\\n",
       "0          0   0000-00-00                                    -1           -1   \n",
       "1        185     20170501  15372217-CPPB7-CP_B7-Weekday-10-SDon       551045   \n",
       "2        185     20170501  15372217-CPPB7-CP_B7-Weekday-10-SDon       551045   \n",
       "3        185     20170501  15372217-CPPB7-CP_B7-Weekday-10-SDon       551036   \n",
       "4        185     20170501  15372217-CPPB7-CP_B7-Weekday-10-SDon       551046   \n",
       "\n",
       "                    timestamp next_next_stop_id             next_time   comp  \\\n",
       "0  2017-06-17 19:46:37.885674            551045  2017-05-01T11:20:09Z  False   \n",
       "1        2017-05-01T11:20:09Z            551045  2017-05-01T11:20:41Z   True   \n",
       "2        2017-05-01T11:20:41Z            551036  2017-05-01T11:21:12Z  False   \n",
       "3        2017-05-01T11:21:12Z            551046  2017-05-01T11:22:16Z  False   \n",
       "4        2017-05-01T11:22:16Z            551047  2017-05-01T11:23:52Z  False   \n",
       "\n",
       "                    dep_start               dep_end  block_assigned  \n",
       "0  2017-06-17 19:46:37.885674  2017-05-01T11:20:09Z               1  \n",
       "1        2017-05-01T11:20:41Z                   NaN               1  \n",
       "2        2017-05-01T11:20:41Z  2017-05-01T11:21:12Z               1  \n",
       "3        2017-05-01T11:21:12Z  2017-05-01T11:22:16Z               1  \n",
       "4        2017-05-01T11:22:16Z  2017-05-01T11:23:52Z               1  "
      ]
     },
     "execution_count": 160,
     "metadata": {},
     "output_type": "execute_result"
    }
   ],
   "source": [
    "calls['block_assigned'] = block_assigned.tolist()\n",
    "calls.head()"
   ]
  },
  {
   "cell_type": "code",
   "execution_count": 161,
   "metadata": {
    "collapsed": true
   },
   "outputs": [],
   "source": [
    "calls = calls.dropna()"
   ]
  },
  {
   "cell_type": "markdown",
   "metadata": {},
   "source": [
    "# merged"
   ]
  },
  {
   "cell_type": "code",
   "execution_count": 162,
   "metadata": {
    "collapsed": false
   },
   "outputs": [],
   "source": [
    "merged = pd.merge(calls, trips, how='left', on='trip_id')"
   ]
  },
  {
   "cell_type": "code",
   "execution_count": 163,
   "metadata": {
    "collapsed": true
   },
   "outputs": [],
   "source": [
    "merged = merged[['service_date','trip_id','vehicle_id','next_stop_id',\n",
    "                'dep_start','dep_end','route_id','direction_id','block_assigned']]"
   ]
  },
  {
   "cell_type": "code",
   "execution_count": 165,
   "metadata": {
    "collapsed": false
   },
   "outputs": [
    {
     "data": {
      "text/html": [
       "<div>\n",
       "<table border=\"1\" class=\"dataframe\">\n",
       "  <thead>\n",
       "    <tr style=\"text-align: right;\">\n",
       "      <th></th>\n",
       "      <th>service_date</th>\n",
       "      <th>trip_id</th>\n",
       "      <th>vehicle_id</th>\n",
       "      <th>next_stop_id</th>\n",
       "      <th>dep_start</th>\n",
       "      <th>dep_end</th>\n",
       "      <th>route_id</th>\n",
       "      <th>direction_id</th>\n",
       "      <th>block_assigned</th>\n",
       "    </tr>\n",
       "  </thead>\n",
       "  <tbody>\n",
       "    <tr>\n",
       "      <th>1</th>\n",
       "      <td>20170501</td>\n",
       "      <td>15372217-CPPB7-CP_B7-Weekday-10-SDon</td>\n",
       "      <td>185</td>\n",
       "      <td>551045</td>\n",
       "      <td>2017-05-01T11:20:41Z</td>\n",
       "      <td>2017-05-01T11:21:12Z</td>\n",
       "      <td>Q25</td>\n",
       "      <td>1.0</td>\n",
       "      <td>1</td>\n",
       "    </tr>\n",
       "    <tr>\n",
       "      <th>2</th>\n",
       "      <td>20170501</td>\n",
       "      <td>15372217-CPPB7-CP_B7-Weekday-10-SDon</td>\n",
       "      <td>185</td>\n",
       "      <td>551036</td>\n",
       "      <td>2017-05-01T11:21:12Z</td>\n",
       "      <td>2017-05-01T11:22:16Z</td>\n",
       "      <td>Q25</td>\n",
       "      <td>1.0</td>\n",
       "      <td>1</td>\n",
       "    </tr>\n",
       "    <tr>\n",
       "      <th>3</th>\n",
       "      <td>20170501</td>\n",
       "      <td>15372217-CPPB7-CP_B7-Weekday-10-SDon</td>\n",
       "      <td>185</td>\n",
       "      <td>551046</td>\n",
       "      <td>2017-05-01T11:22:16Z</td>\n",
       "      <td>2017-05-01T11:23:52Z</td>\n",
       "      <td>Q25</td>\n",
       "      <td>1.0</td>\n",
       "      <td>1</td>\n",
       "    </tr>\n",
       "    <tr>\n",
       "      <th>4</th>\n",
       "      <td>20170501</td>\n",
       "      <td>15372217-CPPB7-CP_B7-Weekday-10-SDon</td>\n",
       "      <td>185</td>\n",
       "      <td>551047</td>\n",
       "      <td>2017-05-01T11:24:23Z</td>\n",
       "      <td>2017-05-01T11:25:59Z</td>\n",
       "      <td>Q25</td>\n",
       "      <td>1.0</td>\n",
       "      <td>1</td>\n",
       "    </tr>\n",
       "    <tr>\n",
       "      <th>5</th>\n",
       "      <td>20170501</td>\n",
       "      <td>15372217-CPPB7-CP_B7-Weekday-10-SDon</td>\n",
       "      <td>185</td>\n",
       "      <td>551026</td>\n",
       "      <td>2017-05-01T11:25:59Z</td>\n",
       "      <td>2017-05-01T11:27:35Z</td>\n",
       "      <td>Q25</td>\n",
       "      <td>1.0</td>\n",
       "      <td>1</td>\n",
       "    </tr>\n",
       "    <tr>\n",
       "      <th>6</th>\n",
       "      <td>20170501</td>\n",
       "      <td>15372217-CPPB7-CP_B7-Weekday-10-SDon</td>\n",
       "      <td>185</td>\n",
       "      <td>551048</td>\n",
       "      <td>2017-05-01T11:27:35Z</td>\n",
       "      <td>2017-05-01T11:29:38Z</td>\n",
       "      <td>Q25</td>\n",
       "      <td>1.0</td>\n",
       "      <td>1</td>\n",
       "    </tr>\n",
       "    <tr>\n",
       "      <th>7</th>\n",
       "      <td>20170501</td>\n",
       "      <td>15372217-CPPB7-CP_B7-Weekday-10-SDon</td>\n",
       "      <td>185</td>\n",
       "      <td>551019</td>\n",
       "      <td>2017-05-01T11:29:38Z</td>\n",
       "      <td>2017-05-01T11:31:43Z</td>\n",
       "      <td>Q25</td>\n",
       "      <td>1.0</td>\n",
       "      <td>1</td>\n",
       "    </tr>\n",
       "    <tr>\n",
       "      <th>8</th>\n",
       "      <td>20170501</td>\n",
       "      <td>15372217-CPPB7-CP_B7-Weekday-10-SDon</td>\n",
       "      <td>185</td>\n",
       "      <td>553130</td>\n",
       "      <td>2017-05-01T11:31:43Z</td>\n",
       "      <td>2017-05-01T11:33:51Z</td>\n",
       "      <td>Q25</td>\n",
       "      <td>1.0</td>\n",
       "      <td>1</td>\n",
       "    </tr>\n",
       "    <tr>\n",
       "      <th>9</th>\n",
       "      <td>20170501</td>\n",
       "      <td>15372217-CPPB7-CP_B7-Weekday-10-SDon</td>\n",
       "      <td>185</td>\n",
       "      <td>551015</td>\n",
       "      <td>2017-05-01T11:33:51Z</td>\n",
       "      <td>2017-05-01T11:35:59Z</td>\n",
       "      <td>Q25</td>\n",
       "      <td>1.0</td>\n",
       "      <td>1</td>\n",
       "    </tr>\n",
       "    <tr>\n",
       "      <th>10</th>\n",
       "      <td>20170501</td>\n",
       "      <td>15372217-CPPB7-CP_B7-Weekday-10-SDon</td>\n",
       "      <td>185</td>\n",
       "      <td>551013</td>\n",
       "      <td>2017-05-01T11:35:59Z</td>\n",
       "      <td>2017-05-01T11:37:34Z</td>\n",
       "      <td>Q25</td>\n",
       "      <td>1.0</td>\n",
       "      <td>1</td>\n",
       "    </tr>\n",
       "  </tbody>\n",
       "</table>\n",
       "</div>"
      ],
      "text/plain": [
       "   service_date                               trip_id vehicle_id next_stop_id  \\\n",
       "1      20170501  15372217-CPPB7-CP_B7-Weekday-10-SDon        185       551045   \n",
       "2      20170501  15372217-CPPB7-CP_B7-Weekday-10-SDon        185       551036   \n",
       "3      20170501  15372217-CPPB7-CP_B7-Weekday-10-SDon        185       551046   \n",
       "4      20170501  15372217-CPPB7-CP_B7-Weekday-10-SDon        185       551047   \n",
       "5      20170501  15372217-CPPB7-CP_B7-Weekday-10-SDon        185       551026   \n",
       "6      20170501  15372217-CPPB7-CP_B7-Weekday-10-SDon        185       551048   \n",
       "7      20170501  15372217-CPPB7-CP_B7-Weekday-10-SDon        185       551019   \n",
       "8      20170501  15372217-CPPB7-CP_B7-Weekday-10-SDon        185       553130   \n",
       "9      20170501  15372217-CPPB7-CP_B7-Weekday-10-SDon        185       551015   \n",
       "10     20170501  15372217-CPPB7-CP_B7-Weekday-10-SDon        185       551013   \n",
       "\n",
       "               dep_start               dep_end route_id  direction_id  \\\n",
       "1   2017-05-01T11:20:41Z  2017-05-01T11:21:12Z      Q25           1.0   \n",
       "2   2017-05-01T11:21:12Z  2017-05-01T11:22:16Z      Q25           1.0   \n",
       "3   2017-05-01T11:22:16Z  2017-05-01T11:23:52Z      Q25           1.0   \n",
       "4   2017-05-01T11:24:23Z  2017-05-01T11:25:59Z      Q25           1.0   \n",
       "5   2017-05-01T11:25:59Z  2017-05-01T11:27:35Z      Q25           1.0   \n",
       "6   2017-05-01T11:27:35Z  2017-05-01T11:29:38Z      Q25           1.0   \n",
       "7   2017-05-01T11:29:38Z  2017-05-01T11:31:43Z      Q25           1.0   \n",
       "8   2017-05-01T11:31:43Z  2017-05-01T11:33:51Z      Q25           1.0   \n",
       "9   2017-05-01T11:33:51Z  2017-05-01T11:35:59Z      Q25           1.0   \n",
       "10  2017-05-01T11:35:59Z  2017-05-01T11:37:34Z      Q25           1.0   \n",
       "\n",
       "    block_assigned  \n",
       "1                1  \n",
       "2                1  \n",
       "3                1  \n",
       "4                1  \n",
       "5                1  \n",
       "6                1  \n",
       "7                1  \n",
       "8                1  \n",
       "9                1  \n",
       "10               1  "
      ]
     },
     "execution_count": 165,
     "metadata": {},
     "output_type": "execute_result"
    }
   ],
   "source": [
    "merged = merged.dropna()\n",
    "merged.head(10)"
   ]
  },
  {
   "cell_type": "code",
   "execution_count": 166,
   "metadata": {
    "collapsed": false
   },
   "outputs": [],
   "source": [
    "def convert_utc(x):\n",
    "    return dt.datetime.strptime(x, \"%Y-%m-%dT%H:%M:%SZ\") - timedelta(hours=5)\n",
    "merged['dep_start'] = merged['dep_start'].apply(convert_utc)\n",
    "merged['dep_end'] = merged['dep_end'].apply(convert_utc)\n"
   ]
  },
  {
   "cell_type": "code",
   "execution_count": 176,
   "metadata": {
    "collapsed": false
   },
   "outputs": [],
   "source": [
    "merged['timestamp'] = merged.dep_start +  (merged.dep_end-merged.dep_start)/2"
   ]
  },
  {
   "cell_type": "code",
   "execution_count": 181,
   "metadata": {
    "collapsed": false
   },
   "outputs": [
    {
     "name": "stderr",
     "output_type": "stream",
     "text": [
      "/opt/rh/anaconda/root/envs/PUI2016_Python2/lib/python2.7/site-packages/ipykernel/__main__.py:1: UserWarning: Boolean Series key will be reindexed to match DataFrame index.\n",
      "  if __name__ == '__main__':\n"
     ]
    }
   ],
   "source": [
    "merged = merged.sort_values(['next_stop_id','route_id','timestamp'])[merged.next_stop_id != '\\N']"
   ]
  },
  {
   "cell_type": "code",
   "execution_count": 186,
   "metadata": {
    "collapsed": false
   },
   "outputs": [],
   "source": [
    "merged = merged[['trip_id','next_stop_id','route_id','direction_id','block_assigned','timestamp']]"
   ]
  },
  {
   "cell_type": "code",
   "execution_count": 188,
   "metadata": {
    "collapsed": true
   },
   "outputs": [],
   "source": [
    "merged['next_route'] = merged.route_id.tolist()[1:] + [np.nan]"
   ]
  },
  {
   "cell_type": "code",
   "execution_count": 190,
   "metadata": {
    "collapsed": false
   },
   "outputs": [],
   "source": [
    "merged['next_time'] = merged.timestamp.tolist()[1:] + [np.nan]"
   ]
  },
  {
   "cell_type": "code",
   "execution_count": 197,
   "metadata": {
    "collapsed": false
   },
   "outputs": [],
   "source": [
    "merged['next_next_stop'] = merged.next_stop_id.tolist()[1:] + [np.nan]"
   ]
  },
  {
   "cell_type": "code",
   "execution_count": 192,
   "metadata": {
    "collapsed": true
   },
   "outputs": [],
   "source": [
    "merged['comp'] = merged.route_id == merged.next_route"
   ]
  },
  {
   "cell_type": "code",
   "execution_count": 198,
   "metadata": {
    "collapsed": false
   },
   "outputs": [],
   "source": [
    "merged['comp2'] = merged.next_next_stop == merged.next_stop_id"
   ]
  },
  {
   "cell_type": "code",
   "execution_count": 205,
   "metadata": {
    "collapsed": false
   },
   "outputs": [],
   "source": [
    "merged['comp3'] = merged['comp'] & merged['comp2']"
   ]
  },
  {
   "cell_type": "code",
   "execution_count": 207,
   "metadata": {
    "collapsed": false
   },
   "outputs": [],
   "source": [
    "merged = merged[merged.comp3==True]"
   ]
  },
  {
   "cell_type": "code",
   "execution_count": 209,
   "metadata": {
    "collapsed": false
   },
   "outputs": [],
   "source": [
    "merged.drop(['next_route','comp','next_next_stop','comp2','comp3'], axis=1, inplace=True)"
   ]
  },
  {
   "cell_type": "code",
   "execution_count": 210,
   "metadata": {
    "collapsed": false
   },
   "outputs": [
    {
     "data": {
      "text/html": [
       "<div>\n",
       "<table border=\"1\" class=\"dataframe\">\n",
       "  <thead>\n",
       "    <tr style=\"text-align: right;\">\n",
       "      <th></th>\n",
       "      <th>trip_id</th>\n",
       "      <th>next_stop_id</th>\n",
       "      <th>route_id</th>\n",
       "      <th>direction_id</th>\n",
       "      <th>block_assigned</th>\n",
       "      <th>timestamp</th>\n",
       "      <th>next_time</th>\n",
       "    </tr>\n",
       "  </thead>\n",
       "  <tbody>\n",
       "    <tr>\n",
       "      <th>429255</th>\n",
       "      <td>GH_B7-Weekday-SDon-039100_BX26_107</td>\n",
       "      <td>100014</td>\n",
       "      <td>BX26</td>\n",
       "      <td>1.0</td>\n",
       "      <td>1</td>\n",
       "      <td>2017-05-01 06:12:19.000</td>\n",
       "      <td>2017-05-01 06:21:36.500</td>\n",
       "    </tr>\n",
       "    <tr>\n",
       "      <th>1461163</th>\n",
       "      <td>GH_B7-Weekday-SDon-041700_BX238_9</td>\n",
       "      <td>100017</td>\n",
       "      <td>BX28</td>\n",
       "      <td>0.0</td>\n",
       "      <td>1</td>\n",
       "      <td>2017-05-01 06:09:36.500</td>\n",
       "      <td>2017-05-01 06:20:14.000</td>\n",
       "    </tr>\n",
       "    <tr>\n",
       "      <th>1461164</th>\n",
       "      <td>GH_B7-Weekday-SDon-041700_BX238_9</td>\n",
       "      <td>100018</td>\n",
       "      <td>BX28</td>\n",
       "      <td>0.0</td>\n",
       "      <td>1</td>\n",
       "      <td>2017-05-01 06:11:30.500</td>\n",
       "      <td>2017-05-01 06:21:48.500</td>\n",
       "    </tr>\n",
       "    <tr>\n",
       "      <th>633092</th>\n",
       "      <td>KB_B7-Weekday-SDon-042700_BX1_110</td>\n",
       "      <td>100019</td>\n",
       "      <td>BX1</td>\n",
       "      <td>0.0</td>\n",
       "      <td>1</td>\n",
       "      <td>2017-05-01 06:09:34.000</td>\n",
       "      <td>2017-05-01 06:14:52.000</td>\n",
       "    </tr>\n",
       "    <tr>\n",
       "      <th>896069</th>\n",
       "      <td>KB_B7-Weekday-SDon-043300_BX1_109</td>\n",
       "      <td>100019</td>\n",
       "      <td>BX1</td>\n",
       "      <td>0.0</td>\n",
       "      <td>1</td>\n",
       "      <td>2017-05-01 06:14:52.000</td>\n",
       "      <td>2017-05-01 06:23:02.000</td>\n",
       "    </tr>\n",
       "  </tbody>\n",
       "</table>\n",
       "</div>"
      ],
      "text/plain": [
       "                                    trip_id next_stop_id route_id  \\\n",
       "429255   GH_B7-Weekday-SDon-039100_BX26_107       100014     BX26   \n",
       "1461163   GH_B7-Weekday-SDon-041700_BX238_9       100017     BX28   \n",
       "1461164   GH_B7-Weekday-SDon-041700_BX238_9       100018     BX28   \n",
       "633092    KB_B7-Weekday-SDon-042700_BX1_110       100019      BX1   \n",
       "896069    KB_B7-Weekday-SDon-043300_BX1_109       100019      BX1   \n",
       "\n",
       "         direction_id  block_assigned               timestamp  \\\n",
       "429255            1.0               1 2017-05-01 06:12:19.000   \n",
       "1461163           0.0               1 2017-05-01 06:09:36.500   \n",
       "1461164           0.0               1 2017-05-01 06:11:30.500   \n",
       "633092            0.0               1 2017-05-01 06:09:34.000   \n",
       "896069            0.0               1 2017-05-01 06:14:52.000   \n",
       "\n",
       "                      next_time  \n",
       "429255  2017-05-01 06:21:36.500  \n",
       "1461163 2017-05-01 06:20:14.000  \n",
       "1461164 2017-05-01 06:21:48.500  \n",
       "633092  2017-05-01 06:14:52.000  \n",
       "896069  2017-05-01 06:23:02.000  "
      ]
     },
     "execution_count": 210,
     "metadata": {},
     "output_type": "execute_result"
    }
   ],
   "source": [
    "merged.head()"
   ]
  },
  {
   "cell_type": "code",
   "execution_count": 215,
   "metadata": {
    "collapsed": true
   },
   "outputs": [],
   "source": [
    "merged['headway'] = merged.next_time - merged.timestamp"
   ]
  },
  {
   "cell_type": "code",
   "execution_count": 217,
   "metadata": {
    "collapsed": false
   },
   "outputs": [],
   "source": [
    "merged['headway'] = merged.headway.dt.total_seconds()/60"
   ]
  },
  {
   "cell_type": "code",
   "execution_count": 218,
   "metadata": {
    "collapsed": false
   },
   "outputs": [
    {
     "data": {
      "text/html": [
       "<div>\n",
       "<table border=\"1\" class=\"dataframe\">\n",
       "  <thead>\n",
       "    <tr style=\"text-align: right;\">\n",
       "      <th></th>\n",
       "      <th>trip_id</th>\n",
       "      <th>next_stop_id</th>\n",
       "      <th>route_id</th>\n",
       "      <th>direction_id</th>\n",
       "      <th>block_assigned</th>\n",
       "      <th>timestamp</th>\n",
       "      <th>next_time</th>\n",
       "      <th>headway</th>\n",
       "    </tr>\n",
       "  </thead>\n",
       "  <tbody>\n",
       "    <tr>\n",
       "      <th>429255</th>\n",
       "      <td>GH_B7-Weekday-SDon-039100_BX26_107</td>\n",
       "      <td>100014</td>\n",
       "      <td>BX26</td>\n",
       "      <td>1.0</td>\n",
       "      <td>1</td>\n",
       "      <td>2017-05-01 06:12:19.000</td>\n",
       "      <td>2017-05-01 06:21:36.500</td>\n",
       "      <td>9.291667</td>\n",
       "    </tr>\n",
       "    <tr>\n",
       "      <th>1461163</th>\n",
       "      <td>GH_B7-Weekday-SDon-041700_BX238_9</td>\n",
       "      <td>100017</td>\n",
       "      <td>BX28</td>\n",
       "      <td>0.0</td>\n",
       "      <td>1</td>\n",
       "      <td>2017-05-01 06:09:36.500</td>\n",
       "      <td>2017-05-01 06:20:14.000</td>\n",
       "      <td>10.625000</td>\n",
       "    </tr>\n",
       "    <tr>\n",
       "      <th>1461164</th>\n",
       "      <td>GH_B7-Weekday-SDon-041700_BX238_9</td>\n",
       "      <td>100018</td>\n",
       "      <td>BX28</td>\n",
       "      <td>0.0</td>\n",
       "      <td>1</td>\n",
       "      <td>2017-05-01 06:11:30.500</td>\n",
       "      <td>2017-05-01 06:21:48.500</td>\n",
       "      <td>10.300000</td>\n",
       "    </tr>\n",
       "    <tr>\n",
       "      <th>633092</th>\n",
       "      <td>KB_B7-Weekday-SDon-042700_BX1_110</td>\n",
       "      <td>100019</td>\n",
       "      <td>BX1</td>\n",
       "      <td>0.0</td>\n",
       "      <td>1</td>\n",
       "      <td>2017-05-01 06:09:34.000</td>\n",
       "      <td>2017-05-01 06:14:52.000</td>\n",
       "      <td>5.300000</td>\n",
       "    </tr>\n",
       "    <tr>\n",
       "      <th>896069</th>\n",
       "      <td>KB_B7-Weekday-SDon-043300_BX1_109</td>\n",
       "      <td>100019</td>\n",
       "      <td>BX1</td>\n",
       "      <td>0.0</td>\n",
       "      <td>1</td>\n",
       "      <td>2017-05-01 06:14:52.000</td>\n",
       "      <td>2017-05-01 06:23:02.000</td>\n",
       "      <td>8.166667</td>\n",
       "    </tr>\n",
       "  </tbody>\n",
       "</table>\n",
       "</div>"
      ],
      "text/plain": [
       "                                    trip_id next_stop_id route_id  \\\n",
       "429255   GH_B7-Weekday-SDon-039100_BX26_107       100014     BX26   \n",
       "1461163   GH_B7-Weekday-SDon-041700_BX238_9       100017     BX28   \n",
       "1461164   GH_B7-Weekday-SDon-041700_BX238_9       100018     BX28   \n",
       "633092    KB_B7-Weekday-SDon-042700_BX1_110       100019      BX1   \n",
       "896069    KB_B7-Weekday-SDon-043300_BX1_109       100019      BX1   \n",
       "\n",
       "         direction_id  block_assigned               timestamp  \\\n",
       "429255            1.0               1 2017-05-01 06:12:19.000   \n",
       "1461163           0.0               1 2017-05-01 06:09:36.500   \n",
       "1461164           0.0               1 2017-05-01 06:11:30.500   \n",
       "633092            0.0               1 2017-05-01 06:09:34.000   \n",
       "896069            0.0               1 2017-05-01 06:14:52.000   \n",
       "\n",
       "                      next_time    headway  \n",
       "429255  2017-05-01 06:21:36.500   9.291667  \n",
       "1461163 2017-05-01 06:20:14.000  10.625000  \n",
       "1461164 2017-05-01 06:21:48.500  10.300000  \n",
       "633092  2017-05-01 06:14:52.000   5.300000  \n",
       "896069  2017-05-01 06:23:02.000   8.166667  "
      ]
     },
     "execution_count": 218,
     "metadata": {},
     "output_type": "execute_result"
    }
   ],
   "source": [
    "merged.head()"
   ]
  },
  {
   "cell_type": "code",
   "execution_count": 226,
   "metadata": {
    "collapsed": false
   },
   "outputs": [],
   "source": [
    "merged['rds_index'] = merged.route_id.astype(str) + '_' + merged.direction_id.astype(int).astype(str) + '_' + merged.next_stop_id.astype(str)"
   ]
  },
  {
   "cell_type": "code",
   "execution_count": 227,
   "metadata": {
    "collapsed": false
   },
   "outputs": [
    {
     "data": {
      "text/html": [
       "<div>\n",
       "<table border=\"1\" class=\"dataframe\">\n",
       "  <thead>\n",
       "    <tr style=\"text-align: right;\">\n",
       "      <th></th>\n",
       "      <th>trip_id</th>\n",
       "      <th>next_stop_id</th>\n",
       "      <th>route_id</th>\n",
       "      <th>direction_id</th>\n",
       "      <th>block_assigned</th>\n",
       "      <th>timestamp</th>\n",
       "      <th>next_time</th>\n",
       "      <th>headway</th>\n",
       "      <th>rds_index</th>\n",
       "    </tr>\n",
       "  </thead>\n",
       "  <tbody>\n",
       "    <tr>\n",
       "      <th>429255</th>\n",
       "      <td>GH_B7-Weekday-SDon-039100_BX26_107</td>\n",
       "      <td>100014</td>\n",
       "      <td>BX26</td>\n",
       "      <td>1.0</td>\n",
       "      <td>1</td>\n",
       "      <td>2017-05-01 06:12:19.000</td>\n",
       "      <td>2017-05-01 06:21:36.500</td>\n",
       "      <td>9.291667</td>\n",
       "      <td>BX26_1_100014</td>\n",
       "    </tr>\n",
       "    <tr>\n",
       "      <th>1461163</th>\n",
       "      <td>GH_B7-Weekday-SDon-041700_BX238_9</td>\n",
       "      <td>100017</td>\n",
       "      <td>BX28</td>\n",
       "      <td>0.0</td>\n",
       "      <td>1</td>\n",
       "      <td>2017-05-01 06:09:36.500</td>\n",
       "      <td>2017-05-01 06:20:14.000</td>\n",
       "      <td>10.625000</td>\n",
       "      <td>BX28_0_100017</td>\n",
       "    </tr>\n",
       "    <tr>\n",
       "      <th>1461164</th>\n",
       "      <td>GH_B7-Weekday-SDon-041700_BX238_9</td>\n",
       "      <td>100018</td>\n",
       "      <td>BX28</td>\n",
       "      <td>0.0</td>\n",
       "      <td>1</td>\n",
       "      <td>2017-05-01 06:11:30.500</td>\n",
       "      <td>2017-05-01 06:21:48.500</td>\n",
       "      <td>10.300000</td>\n",
       "      <td>BX28_0_100018</td>\n",
       "    </tr>\n",
       "    <tr>\n",
       "      <th>633092</th>\n",
       "      <td>KB_B7-Weekday-SDon-042700_BX1_110</td>\n",
       "      <td>100019</td>\n",
       "      <td>BX1</td>\n",
       "      <td>0.0</td>\n",
       "      <td>1</td>\n",
       "      <td>2017-05-01 06:09:34.000</td>\n",
       "      <td>2017-05-01 06:14:52.000</td>\n",
       "      <td>5.300000</td>\n",
       "      <td>BX1_0_100019</td>\n",
       "    </tr>\n",
       "    <tr>\n",
       "      <th>896069</th>\n",
       "      <td>KB_B7-Weekday-SDon-043300_BX1_109</td>\n",
       "      <td>100019</td>\n",
       "      <td>BX1</td>\n",
       "      <td>0.0</td>\n",
       "      <td>1</td>\n",
       "      <td>2017-05-01 06:14:52.000</td>\n",
       "      <td>2017-05-01 06:23:02.000</td>\n",
       "      <td>8.166667</td>\n",
       "      <td>BX1_0_100019</td>\n",
       "    </tr>\n",
       "  </tbody>\n",
       "</table>\n",
       "</div>"
      ],
      "text/plain": [
       "                                    trip_id next_stop_id route_id  \\\n",
       "429255   GH_B7-Weekday-SDon-039100_BX26_107       100014     BX26   \n",
       "1461163   GH_B7-Weekday-SDon-041700_BX238_9       100017     BX28   \n",
       "1461164   GH_B7-Weekday-SDon-041700_BX238_9       100018     BX28   \n",
       "633092    KB_B7-Weekday-SDon-042700_BX1_110       100019      BX1   \n",
       "896069    KB_B7-Weekday-SDon-043300_BX1_109       100019      BX1   \n",
       "\n",
       "         direction_id  block_assigned               timestamp  \\\n",
       "429255            1.0               1 2017-05-01 06:12:19.000   \n",
       "1461163           0.0               1 2017-05-01 06:09:36.500   \n",
       "1461164           0.0               1 2017-05-01 06:11:30.500   \n",
       "633092            0.0               1 2017-05-01 06:09:34.000   \n",
       "896069            0.0               1 2017-05-01 06:14:52.000   \n",
       "\n",
       "                      next_time    headway      rds_index  \n",
       "429255  2017-05-01 06:21:36.500   9.291667  BX26_1_100014  \n",
       "1461163 2017-05-01 06:20:14.000  10.625000  BX28_0_100017  \n",
       "1461164 2017-05-01 06:21:48.500  10.300000  BX28_0_100018  \n",
       "633092  2017-05-01 06:14:52.000   5.300000   BX1_0_100019  \n",
       "896069  2017-05-01 06:23:02.000   8.166667   BX1_0_100019  "
      ]
     },
     "execution_count": 227,
     "metadata": {},
     "output_type": "execute_result"
    }
   ],
   "source": [
    "merged.head()"
   ]
  },
  {
   "cell_type": "code",
   "execution_count": 230,
   "metadata": {
    "collapsed": true
   },
   "outputs": [],
   "source": [
    "merged2 = merged[['rds_index','trip_id','timestamp','headway']]"
   ]
  },
  {
   "cell_type": "code",
   "execution_count": 231,
   "metadata": {
    "collapsed": false
   },
   "outputs": [
    {
     "data": {
      "text/html": [
       "<div>\n",
       "<table border=\"1\" class=\"dataframe\">\n",
       "  <thead>\n",
       "    <tr style=\"text-align: right;\">\n",
       "      <th></th>\n",
       "      <th>rds_index</th>\n",
       "      <th>trip_id</th>\n",
       "      <th>timestamp</th>\n",
       "      <th>headway</th>\n",
       "    </tr>\n",
       "  </thead>\n",
       "  <tbody>\n",
       "    <tr>\n",
       "      <th>429255</th>\n",
       "      <td>BX26_1_100014</td>\n",
       "      <td>GH_B7-Weekday-SDon-039100_BX26_107</td>\n",
       "      <td>2017-05-01 06:12:19.000</td>\n",
       "      <td>9.291667</td>\n",
       "    </tr>\n",
       "    <tr>\n",
       "      <th>1461163</th>\n",
       "      <td>BX28_0_100017</td>\n",
       "      <td>GH_B7-Weekday-SDon-041700_BX238_9</td>\n",
       "      <td>2017-05-01 06:09:36.500</td>\n",
       "      <td>10.625000</td>\n",
       "    </tr>\n",
       "    <tr>\n",
       "      <th>1461164</th>\n",
       "      <td>BX28_0_100018</td>\n",
       "      <td>GH_B7-Weekday-SDon-041700_BX238_9</td>\n",
       "      <td>2017-05-01 06:11:30.500</td>\n",
       "      <td>10.300000</td>\n",
       "    </tr>\n",
       "    <tr>\n",
       "      <th>633092</th>\n",
       "      <td>BX1_0_100019</td>\n",
       "      <td>KB_B7-Weekday-SDon-042700_BX1_110</td>\n",
       "      <td>2017-05-01 06:09:34.000</td>\n",
       "      <td>5.300000</td>\n",
       "    </tr>\n",
       "    <tr>\n",
       "      <th>896069</th>\n",
       "      <td>BX1_0_100019</td>\n",
       "      <td>KB_B7-Weekday-SDon-043300_BX1_109</td>\n",
       "      <td>2017-05-01 06:14:52.000</td>\n",
       "      <td>8.166667</td>\n",
       "    </tr>\n",
       "  </tbody>\n",
       "</table>\n",
       "</div>"
      ],
      "text/plain": [
       "             rds_index                             trip_id  \\\n",
       "429255   BX26_1_100014  GH_B7-Weekday-SDon-039100_BX26_107   \n",
       "1461163  BX28_0_100017   GH_B7-Weekday-SDon-041700_BX238_9   \n",
       "1461164  BX28_0_100018   GH_B7-Weekday-SDon-041700_BX238_9   \n",
       "633092    BX1_0_100019   KB_B7-Weekday-SDon-042700_BX1_110   \n",
       "896069    BX1_0_100019   KB_B7-Weekday-SDon-043300_BX1_109   \n",
       "\n",
       "                      timestamp    headway  \n",
       "429255  2017-05-01 06:12:19.000   9.291667  \n",
       "1461163 2017-05-01 06:09:36.500  10.625000  \n",
       "1461164 2017-05-01 06:11:30.500  10.300000  \n",
       "633092  2017-05-01 06:09:34.000   5.300000  \n",
       "896069  2017-05-01 06:14:52.000   8.166667  "
      ]
     },
     "execution_count": 231,
     "metadata": {},
     "output_type": "execute_result"
    }
   ],
   "source": [
    "merged2.head()"
   ]
  },
  {
   "cell_type": "code",
   "execution_count": 251,
   "metadata": {
    "collapsed": false
   },
   "outputs": [
    {
     "name": "stderr",
     "output_type": "stream",
     "text": [
      "/opt/rh/anaconda/root/envs/PUI2016_Python2/lib/python2.7/site-packages/pandas/core/frame.py:2754: SettingWithCopyWarning: \n",
      "A value is trying to be set on a copy of a slice from a DataFrame\n",
      "\n",
      "See the caveats in the documentation: http://pandas.pydata.org/pandas-docs/stable/indexing.html#indexing-view-versus-copy\n",
      "  **kwargs)\n"
     ]
    }
   ],
   "source": [
    "merged2.rename(columns={'headway':'headways'}, inplace=True)"
   ]
  },
  {
   "cell_type": "code",
   "execution_count": 252,
   "metadata": {
    "collapsed": true
   },
   "outputs": [],
   "source": [
    "merged2.to_csv(join(two_up,'share','observed_headways_20170501_2.csv'), index=False)"
   ]
  },
  {
   "cell_type": "code",
   "execution_count": 234,
   "metadata": {
    "collapsed": false
   },
   "outputs": [
    {
     "data": {
      "text/plain": [
       "52556"
      ]
     },
     "execution_count": 234,
     "metadata": {},
     "output_type": "execute_result"
    }
   ],
   "source": [
    "len(merged2.trip_id.unique())"
   ]
  },
  {
   "cell_type": "code",
   "execution_count": 253,
   "metadata": {
    "collapsed": false
   },
   "outputs": [
    {
     "data": {
      "text/html": [
       "<div>\n",
       "<table border=\"1\" class=\"dataframe\">\n",
       "  <thead>\n",
       "    <tr style=\"text-align: right;\">\n",
       "      <th></th>\n",
       "      <th>trip_id</th>\n",
       "      <th>next_stop_id</th>\n",
       "      <th>route_id</th>\n",
       "      <th>direction_id</th>\n",
       "      <th>block_assigned</th>\n",
       "      <th>timestamp</th>\n",
       "      <th>next_time</th>\n",
       "      <th>headway</th>\n",
       "      <th>rds_index</th>\n",
       "    </tr>\n",
       "  </thead>\n",
       "  <tbody>\n",
       "    <tr>\n",
       "      <th>921146</th>\n",
       "      <td>MQ_B7-Weekday-SDon-012000_M14AD_2</td>\n",
       "      <td>404329</td>\n",
       "      <td>M14A</td>\n",
       "      <td>0.0</td>\n",
       "      <td>1</td>\n",
       "      <td>2017-05-01 00:58:42.500</td>\n",
       "      <td>2017-05-01 23:43:08.500</td>\n",
       "      <td>1364.433333</td>\n",
       "      <td>M14A_0_404329</td>\n",
       "    </tr>\n",
       "    <tr>\n",
       "      <th>641225</th>\n",
       "      <td>GH_B7-Weekday-SDon-004000_BX12_1</td>\n",
       "      <td>103795</td>\n",
       "      <td>BX12</td>\n",
       "      <td>1.0</td>\n",
       "      <td>1</td>\n",
       "      <td>2017-04-30 23:43:30.500</td>\n",
       "      <td>2017-05-01 21:42:09.500</td>\n",
       "      <td>1318.650000</td>\n",
       "      <td>BX12_1_103795</td>\n",
       "    </tr>\n",
       "    <tr>\n",
       "      <th>635561</th>\n",
       "      <td>GH_B7-Weekday-SDon-008000_BX12_2</td>\n",
       "      <td>101739</td>\n",
       "      <td>BX12</td>\n",
       "      <td>1.0</td>\n",
       "      <td>1</td>\n",
       "      <td>2017-05-01 00:25:20.000</td>\n",
       "      <td>2017-05-01 21:25:43.500</td>\n",
       "      <td>1260.391667</td>\n",
       "      <td>BX12_1_101739</td>\n",
       "    </tr>\n",
       "    <tr>\n",
       "      <th>921274</th>\n",
       "      <td>MQ_B7-Weekday-SDon-027000_M14AD_2</td>\n",
       "      <td>405265</td>\n",
       "      <td>M14A</td>\n",
       "      <td>1.0</td>\n",
       "      <td>1</td>\n",
       "      <td>2017-05-01 03:52:07.000</td>\n",
       "      <td>2017-05-01 23:54:43.000</td>\n",
       "      <td>1202.600000</td>\n",
       "      <td>M14A_1_405265</td>\n",
       "    </tr>\n",
       "    <tr>\n",
       "      <th>921277</th>\n",
       "      <td>MQ_B7-Weekday-SDon-027000_M14AD_2</td>\n",
       "      <td>405157</td>\n",
       "      <td>M14A</td>\n",
       "      <td>1.0</td>\n",
       "      <td>1</td>\n",
       "      <td>2017-05-01 03:54:14.500</td>\n",
       "      <td>2017-05-01 23:29:07.000</td>\n",
       "      <td>1174.875000</td>\n",
       "      <td>M14A_1_405157</td>\n",
       "    </tr>\n",
       "    <tr>\n",
       "      <th>921275</th>\n",
       "      <td>MQ_B7-Weekday-SDon-027000_M14AD_2</td>\n",
       "      <td>405152</td>\n",
       "      <td>M14A</td>\n",
       "      <td>1.0</td>\n",
       "      <td>1</td>\n",
       "      <td>2017-05-01 03:52:55.000</td>\n",
       "      <td>2017-05-01 23:27:16.000</td>\n",
       "      <td>1174.350000</td>\n",
       "      <td>M14A_1_405152</td>\n",
       "    </tr>\n",
       "    <tr>\n",
       "      <th>457410</th>\n",
       "      <td>CS_B7-Weekday-SDon-030000_Q48_2</td>\n",
       "      <td>804121</td>\n",
       "      <td>Q48</td>\n",
       "      <td>1.0</td>\n",
       "      <td>1</td>\n",
       "      <td>2017-05-01 04:28:04.000</td>\n",
       "      <td>2017-05-01 23:41:42.000</td>\n",
       "      <td>1153.633333</td>\n",
       "      <td>Q48_1_804121</td>\n",
       "    </tr>\n",
       "    <tr>\n",
       "      <th>824165</th>\n",
       "      <td>MQ_B7-Weekday-SDon-029300_M14AD_6</td>\n",
       "      <td>404286</td>\n",
       "      <td>M14A</td>\n",
       "      <td>0.0</td>\n",
       "      <td>1</td>\n",
       "      <td>2017-05-01 03:55:31.500</td>\n",
       "      <td>2017-05-01 23:08:26.000</td>\n",
       "      <td>1152.908333</td>\n",
       "      <td>M14A_0_404286</td>\n",
       "    </tr>\n",
       "    <tr>\n",
       "      <th>824164</th>\n",
       "      <td>MQ_B7-Weekday-SDon-029300_M14AD_6</td>\n",
       "      <td>401507</td>\n",
       "      <td>M14A</td>\n",
       "      <td>0.0</td>\n",
       "      <td>1</td>\n",
       "      <td>2017-05-01 03:54:43.000</td>\n",
       "      <td>2017-05-01 23:05:14.500</td>\n",
       "      <td>1150.525000</td>\n",
       "      <td>M14A_0_401507</td>\n",
       "    </tr>\n",
       "    <tr>\n",
       "      <th>641338</th>\n",
       "      <td>GH_B7-Weekday-SDon-021000_BX12_1</td>\n",
       "      <td>402611</td>\n",
       "      <td>BX12</td>\n",
       "      <td>1.0</td>\n",
       "      <td>1</td>\n",
       "      <td>2017-05-01 03:10:51.000</td>\n",
       "      <td>2017-05-01 22:03:38.000</td>\n",
       "      <td>1132.783333</td>\n",
       "      <td>BX12_1_402611</td>\n",
       "    </tr>\n",
       "  </tbody>\n",
       "</table>\n",
       "</div>"
      ],
      "text/plain": [
       "                                  trip_id next_stop_id route_id  direction_id  \\\n",
       "921146  MQ_B7-Weekday-SDon-012000_M14AD_2       404329     M14A           0.0   \n",
       "641225   GH_B7-Weekday-SDon-004000_BX12_1       103795     BX12           1.0   \n",
       "635561   GH_B7-Weekday-SDon-008000_BX12_2       101739     BX12           1.0   \n",
       "921274  MQ_B7-Weekday-SDon-027000_M14AD_2       405265     M14A           1.0   \n",
       "921277  MQ_B7-Weekday-SDon-027000_M14AD_2       405157     M14A           1.0   \n",
       "921275  MQ_B7-Weekday-SDon-027000_M14AD_2       405152     M14A           1.0   \n",
       "457410    CS_B7-Weekday-SDon-030000_Q48_2       804121      Q48           1.0   \n",
       "824165  MQ_B7-Weekday-SDon-029300_M14AD_6       404286     M14A           0.0   \n",
       "824164  MQ_B7-Weekday-SDon-029300_M14AD_6       401507     M14A           0.0   \n",
       "641338   GH_B7-Weekday-SDon-021000_BX12_1       402611     BX12           1.0   \n",
       "\n",
       "        block_assigned               timestamp               next_time  \\\n",
       "921146               1 2017-05-01 00:58:42.500 2017-05-01 23:43:08.500   \n",
       "641225               1 2017-04-30 23:43:30.500 2017-05-01 21:42:09.500   \n",
       "635561               1 2017-05-01 00:25:20.000 2017-05-01 21:25:43.500   \n",
       "921274               1 2017-05-01 03:52:07.000 2017-05-01 23:54:43.000   \n",
       "921277               1 2017-05-01 03:54:14.500 2017-05-01 23:29:07.000   \n",
       "921275               1 2017-05-01 03:52:55.000 2017-05-01 23:27:16.000   \n",
       "457410               1 2017-05-01 04:28:04.000 2017-05-01 23:41:42.000   \n",
       "824165               1 2017-05-01 03:55:31.500 2017-05-01 23:08:26.000   \n",
       "824164               1 2017-05-01 03:54:43.000 2017-05-01 23:05:14.500   \n",
       "641338               1 2017-05-01 03:10:51.000 2017-05-01 22:03:38.000   \n",
       "\n",
       "            headway      rds_index  \n",
       "921146  1364.433333  M14A_0_404329  \n",
       "641225  1318.650000  BX12_1_103795  \n",
       "635561  1260.391667  BX12_1_101739  \n",
       "921274  1202.600000  M14A_1_405265  \n",
       "921277  1174.875000  M14A_1_405157  \n",
       "921275  1174.350000  M14A_1_405152  \n",
       "457410  1153.633333   Q48_1_804121  \n",
       "824165  1152.908333  M14A_0_404286  \n",
       "824164  1150.525000  M14A_0_401507  \n",
       "641338  1132.783333  BX12_1_402611  "
      ]
     },
     "execution_count": 253,
     "metadata": {},
     "output_type": "execute_result"
    }
   ],
   "source": [
    "merged.sort_values('headway', ascending=False).head(10)"
   ]
  },
  {
   "cell_type": "code",
   "execution_count": 269,
   "metadata": {
    "collapsed": true
   },
   "outputs": [],
   "source": [
    "merged.to_csv(\"merged_observed_20170501.csv\")"
   ]
  },
  {
   "cell_type": "markdown",
   "metadata": {},
   "source": [
    "# read schedule"
   ]
  },
  {
   "cell_type": "code",
   "execution_count": 263,
   "metadata": {
    "collapsed": true
   },
   "outputs": [],
   "source": [
    "sched = pd.read_csv(join(two_up,'share','schedules','monday.csv'))"
   ]
  },
  {
   "cell_type": "code",
   "execution_count": 266,
   "metadata": {
    "collapsed": false
   },
   "outputs": [],
   "source": [
    "sched = sched.sort_values(['rds_index','arrival_time'])"
   ]
  },
  {
   "cell_type": "code",
   "execution_count": 267,
   "metadata": {
    "collapsed": false
   },
   "outputs": [
    {
     "data": {
      "text/html": [
       "<div>\n",
       "<table border=\"1\" class=\"dataframe\">\n",
       "  <thead>\n",
       "    <tr style=\"text-align: right;\">\n",
       "      <th></th>\n",
       "      <th>trip_id</th>\n",
       "      <th>arrival_time</th>\n",
       "      <th>stop_id</th>\n",
       "      <th>stop_sequence</th>\n",
       "      <th>pickup_type</th>\n",
       "      <th>drop_off_type</th>\n",
       "      <th>route_id</th>\n",
       "      <th>direction_id</th>\n",
       "      <th>service_id</th>\n",
       "      <th>rds_index</th>\n",
       "      <th>headways</th>\n",
       "    </tr>\n",
       "  </thead>\n",
       "  <tbody>\n",
       "    <tr>\n",
       "      <th>0</th>\n",
       "      <td>16359052-SCPC7-SC_C7-Sunday-20</td>\n",
       "      <td>1900-01-01 00:13:08</td>\n",
       "      <td>300226</td>\n",
       "      <td>19</td>\n",
       "      <td>0</td>\n",
       "      <td>0</td>\n",
       "      <td>B100</td>\n",
       "      <td>0</td>\n",
       "      <td>SCPC7-SC_C7-Sunday-20</td>\n",
       "      <td>B100_0_300226</td>\n",
       "      <td>29.166667</td>\n",
       "    </tr>\n",
       "    <tr>\n",
       "      <th>1</th>\n",
       "      <td>16357241-SCPC7-SC_C7-Weekday-20</td>\n",
       "      <td>1900-01-01 06:13:58</td>\n",
       "      <td>300226</td>\n",
       "      <td>19</td>\n",
       "      <td>0</td>\n",
       "      <td>0</td>\n",
       "      <td>B100</td>\n",
       "      <td>0</td>\n",
       "      <td>SCPC7-SC_C7-Weekday-20</td>\n",
       "      <td>B100_0_300226</td>\n",
       "      <td>360.833333</td>\n",
       "    </tr>\n",
       "    <tr>\n",
       "      <th>2</th>\n",
       "      <td>16357255-SCPC7-SC_C7-Weekday-20</td>\n",
       "      <td>1900-01-01 06:43:58</td>\n",
       "      <td>300226</td>\n",
       "      <td>19</td>\n",
       "      <td>0</td>\n",
       "      <td>0</td>\n",
       "      <td>B100</td>\n",
       "      <td>0</td>\n",
       "      <td>SCPC7-SC_C7-Weekday-20</td>\n",
       "      <td>B100_0_300226</td>\n",
       "      <td>30.000000</td>\n",
       "    </tr>\n",
       "    <tr>\n",
       "      <th>3</th>\n",
       "      <td>16357272-SCPC7-SC_C7-Weekday-20</td>\n",
       "      <td>1900-01-01 06:58:58</td>\n",
       "      <td>300226</td>\n",
       "      <td>19</td>\n",
       "      <td>0</td>\n",
       "      <td>0</td>\n",
       "      <td>B100</td>\n",
       "      <td>0</td>\n",
       "      <td>SCPC7-SC_C7-Weekday-20</td>\n",
       "      <td>B100_0_300226</td>\n",
       "      <td>15.000000</td>\n",
       "    </tr>\n",
       "    <tr>\n",
       "      <th>4</th>\n",
       "      <td>16357280-SCPC7-SC_C7-Weekday-20</td>\n",
       "      <td>1900-01-01 07:05:58</td>\n",
       "      <td>300226</td>\n",
       "      <td>19</td>\n",
       "      <td>0</td>\n",
       "      <td>0</td>\n",
       "      <td>B100</td>\n",
       "      <td>0</td>\n",
       "      <td>SCPC7-SC_C7-Weekday-20</td>\n",
       "      <td>B100_0_300226</td>\n",
       "      <td>7.000000</td>\n",
       "    </tr>\n",
       "  </tbody>\n",
       "</table>\n",
       "</div>"
      ],
      "text/plain": [
       "                           trip_id         arrival_time  stop_id  \\\n",
       "0   16359052-SCPC7-SC_C7-Sunday-20  1900-01-01 00:13:08   300226   \n",
       "1  16357241-SCPC7-SC_C7-Weekday-20  1900-01-01 06:13:58   300226   \n",
       "2  16357255-SCPC7-SC_C7-Weekday-20  1900-01-01 06:43:58   300226   \n",
       "3  16357272-SCPC7-SC_C7-Weekday-20  1900-01-01 06:58:58   300226   \n",
       "4  16357280-SCPC7-SC_C7-Weekday-20  1900-01-01 07:05:58   300226   \n",
       "\n",
       "   stop_sequence  pickup_type  drop_off_type route_id  direction_id  \\\n",
       "0             19            0              0     B100             0   \n",
       "1             19            0              0     B100             0   \n",
       "2             19            0              0     B100             0   \n",
       "3             19            0              0     B100             0   \n",
       "4             19            0              0     B100             0   \n",
       "\n",
       "               service_id      rds_index    headways  \n",
       "0   SCPC7-SC_C7-Sunday-20  B100_0_300226   29.166667  \n",
       "1  SCPC7-SC_C7-Weekday-20  B100_0_300226  360.833333  \n",
       "2  SCPC7-SC_C7-Weekday-20  B100_0_300226   30.000000  \n",
       "3  SCPC7-SC_C7-Weekday-20  B100_0_300226   15.000000  \n",
       "4  SCPC7-SC_C7-Weekday-20  B100_0_300226    7.000000  "
      ]
     },
     "execution_count": 267,
     "metadata": {},
     "output_type": "execute_result"
    }
   ],
   "source": [
    "sched.head()"
   ]
  },
  {
   "cell_type": "code",
   "execution_count": 268,
   "metadata": {
    "collapsed": false
   },
   "outputs": [
    {
     "data": {
      "text/html": [
       "<div>\n",
       "<table border=\"1\" class=\"dataframe\">\n",
       "  <thead>\n",
       "    <tr style=\"text-align: right;\">\n",
       "      <th></th>\n",
       "      <th>rds_index</th>\n",
       "      <th>trip_id</th>\n",
       "      <th>timestamp</th>\n",
       "      <th>headways</th>\n",
       "    </tr>\n",
       "  </thead>\n",
       "  <tbody>\n",
       "    <tr>\n",
       "      <th>111468</th>\n",
       "      <td>B100_0_300226</td>\n",
       "      <td>15406510-SCPB7-SC_B7-Weekday-20-SDon</td>\n",
       "      <td>2017-05-01 05:15:13.000</td>\n",
       "      <td>10.966667</td>\n",
       "    </tr>\n",
       "    <tr>\n",
       "      <th>130363</th>\n",
       "      <td>B100_0_300226</td>\n",
       "      <td>15406510-SCPB7-SC_B7-Weekday-20-SDon</td>\n",
       "      <td>2017-05-01 05:26:11.000</td>\n",
       "      <td>19.025000</td>\n",
       "    </tr>\n",
       "    <tr>\n",
       "      <th>133032</th>\n",
       "      <td>B100_0_300226</td>\n",
       "      <td>15406524-SCPB7-SC_B7-Weekday-20-SDon</td>\n",
       "      <td>2017-05-01 05:45:12.500</td>\n",
       "      <td>8.216667</td>\n",
       "    </tr>\n",
       "    <tr>\n",
       "      <th>112952</th>\n",
       "      <td>B100_0_300226</td>\n",
       "      <td>15406524-SCPB7-SC_B7-Weekday-20-SDon</td>\n",
       "      <td>2017-05-01 05:53:25.500</td>\n",
       "      <td>11.583333</td>\n",
       "    </tr>\n",
       "    <tr>\n",
       "      <th>113733</th>\n",
       "      <td>B100_0_300226</td>\n",
       "      <td>15406542-SCPB7-SC_B7-Weekday-20-SDon</td>\n",
       "      <td>2017-05-01 06:05:00.500</td>\n",
       "      <td>21.825000</td>\n",
       "    </tr>\n",
       "  </tbody>\n",
       "</table>\n",
       "</div>"
      ],
      "text/plain": [
       "            rds_index                               trip_id  \\\n",
       "111468  B100_0_300226  15406510-SCPB7-SC_B7-Weekday-20-SDon   \n",
       "130363  B100_0_300226  15406510-SCPB7-SC_B7-Weekday-20-SDon   \n",
       "133032  B100_0_300226  15406524-SCPB7-SC_B7-Weekday-20-SDon   \n",
       "112952  B100_0_300226  15406524-SCPB7-SC_B7-Weekday-20-SDon   \n",
       "113733  B100_0_300226  15406542-SCPB7-SC_B7-Weekday-20-SDon   \n",
       "\n",
       "                     timestamp   headways  \n",
       "111468 2017-05-01 05:15:13.000  10.966667  \n",
       "130363 2017-05-01 05:26:11.000  19.025000  \n",
       "133032 2017-05-01 05:45:12.500   8.216667  \n",
       "112952 2017-05-01 05:53:25.500  11.583333  \n",
       "113733 2017-05-01 06:05:00.500  21.825000  "
      ]
     },
     "execution_count": 268,
     "metadata": {},
     "output_type": "execute_result"
    }
   ],
   "source": [
    "merged3 = merged2.sort_values(['rds_index','timestamp'])\n",
    "merged3.head()"
   ]
  },
  {
   "cell_type": "code",
   "execution_count": null,
   "metadata": {
    "collapsed": true
   },
   "outputs": [],
   "source": []
  }
 ],
 "metadata": {
  "kernelspec": {
   "display_name": "PUI2016_Python2",
   "language": "python",
   "name": "pui2016_python2"
  },
  "language_info": {
   "codemirror_mode": {
    "name": "ipython",
    "version": 2
   },
   "file_extension": ".py",
   "mimetype": "text/x-python",
   "name": "python",
   "nbconvert_exporter": "python",
   "pygments_lexer": "ipython2",
   "version": "2.7.12"
  }
 },
 "nbformat": 4,
 "nbformat_minor": 0
}
